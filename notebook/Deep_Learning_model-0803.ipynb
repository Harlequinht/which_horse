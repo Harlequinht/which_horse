{
 "cells": [
  {
   "cell_type": "code",
   "execution_count": 1,
   "id": "db675247",
   "metadata": {},
   "outputs": [
    {
     "name": "stdout",
     "output_type": "stream",
     "text": [
      "/home/tomi/code/Harlequinht/which_horse/notebook\n"
     ]
    }
   ],
   "source": [
    "!pwd\n",
    "import warnings\n",
    "warnings.filterwarnings('ignore')\n",
    "%load_ext autoreload\n",
    "%autoreload 2"
   ]
  },
  {
   "cell_type": "code",
   "execution_count": 2,
   "id": "4e6eae6b",
   "metadata": {
    "collapsed": true
   },
   "outputs": [
    {
     "name": "stdout",
     "output_type": "stream",
     "text": [
      "'Concat Data.ipynb'\t\t   Modelling_testing.ipynb\n",
      " Deep_Learning_model-0803.ipynb    pipeline_cleaning.py\n",
      " Deep_Learning_model.ipynb\t   WeatherAPI.ipynb\n",
      " Feature_Engineering_Clean.ipynb   which_horse_flat.ipynb\n",
      " HorseAgeAtRace.ipynb\t\t   which_horse.ipynb\n"
     ]
    },
    {
     "name": "stdout",
     "output_type": "stream",
     "text": [
      "Requirement already satisfied: tensorflow in /home/tomi/.pyenv/versions/3.10.6/envs/which_horse/lib/python3.10/site-packages (2.15.0.post1)\n",
      "Requirement already satisfied: absl-py>=1.0.0 in /home/tomi/.pyenv/versions/3.10.6/envs/which_horse/lib/python3.10/site-packages (from tensorflow) (2.1.0)\n",
      "Requirement already satisfied: astunparse>=1.6.0 in /home/tomi/.pyenv/versions/3.10.6/envs/which_horse/lib/python3.10/site-packages (from tensorflow) (1.6.3)\n",
      "Requirement already satisfied: flatbuffers>=23.5.26 in /home/tomi/.pyenv/versions/3.10.6/envs/which_horse/lib/python3.10/site-packages (from tensorflow) (24.3.7)\n",
      "Requirement already satisfied: gast!=0.5.0,!=0.5.1,!=0.5.2,>=0.2.1 in /home/tomi/.pyenv/versions/3.10.6/envs/which_horse/lib/python3.10/site-packages (from tensorflow) (0.5.4)\n",
      "Requirement already satisfied: google-pasta>=0.1.1 in /home/tomi/.pyenv/versions/3.10.6/envs/which_horse/lib/python3.10/site-packages (from tensorflow) (0.2.0)\n",
      "Requirement already satisfied: h5py>=2.9.0 in /home/tomi/.pyenv/versions/3.10.6/envs/which_horse/lib/python3.10/site-packages (from tensorflow) (3.10.0)\n",
      "Requirement already satisfied: libclang>=13.0.0 in /home/tomi/.pyenv/versions/3.10.6/envs/which_horse/lib/python3.10/site-packages (from tensorflow) (16.0.6)\n",
      "Requirement already satisfied: ml-dtypes~=0.2.0 in /home/tomi/.pyenv/versions/3.10.6/envs/which_horse/lib/python3.10/site-packages (from tensorflow) (0.2.0)\n",
      "Requirement already satisfied: numpy<2.0.0,>=1.23.5 in /home/tomi/.pyenv/versions/3.10.6/envs/which_horse/lib/python3.10/site-packages (from tensorflow) (1.26.4)\n",
      "Requirement already satisfied: opt-einsum>=2.3.2 in /home/tomi/.pyenv/versions/3.10.6/envs/which_horse/lib/python3.10/site-packages (from tensorflow) (3.3.0)\n",
      "Requirement already satisfied: packaging in /home/tomi/.pyenv/versions/3.10.6/envs/which_horse/lib/python3.10/site-packages (from tensorflow) (23.2)\n",
      "Requirement already satisfied: protobuf!=4.21.0,!=4.21.1,!=4.21.2,!=4.21.3,!=4.21.4,!=4.21.5,<5.0.0dev,>=3.20.3 in /home/tomi/.pyenv/versions/3.10.6/envs/which_horse/lib/python3.10/site-packages (from tensorflow) (4.25.3)\n",
      "Requirement already satisfied: setuptools in /home/tomi/.pyenv/versions/3.10.6/envs/which_horse/lib/python3.10/site-packages (from tensorflow) (63.2.0)\n",
      "Requirement already satisfied: six>=1.12.0 in /home/tomi/.pyenv/versions/3.10.6/envs/which_horse/lib/python3.10/site-packages (from tensorflow) (1.16.0)\n",
      "Requirement already satisfied: termcolor>=1.1.0 in /home/tomi/.pyenv/versions/3.10.6/envs/which_horse/lib/python3.10/site-packages (from tensorflow) (2.4.0)\n",
      "Requirement already satisfied: typing-extensions>=3.6.6 in /home/tomi/.pyenv/versions/3.10.6/envs/which_horse/lib/python3.10/site-packages (from tensorflow) (4.10.0)\n",
      "Requirement already satisfied: wrapt<1.15,>=1.11.0 in /home/tomi/.pyenv/versions/3.10.6/envs/which_horse/lib/python3.10/site-packages (from tensorflow) (1.14.1)\n",
      "Requirement already satisfied: tensorflow-io-gcs-filesystem>=0.23.1 in /home/tomi/.pyenv/versions/3.10.6/envs/which_horse/lib/python3.10/site-packages (from tensorflow) (0.36.0)\n",
      "Requirement already satisfied: grpcio<2.0,>=1.24.3 in /home/tomi/.pyenv/versions/3.10.6/envs/which_horse/lib/python3.10/site-packages (from tensorflow) (1.62.0)\n",
      "Requirement already satisfied: tensorboard<2.16,>=2.15 in /home/tomi/.pyenv/versions/3.10.6/envs/which_horse/lib/python3.10/site-packages (from tensorflow) (2.15.2)\n",
      "Requirement already satisfied: tensorflow-estimator<2.16,>=2.15.0 in /home/tomi/.pyenv/versions/3.10.6/envs/which_horse/lib/python3.10/site-packages (from tensorflow) (2.15.0)\n",
      "Requirement already satisfied: keras<2.16,>=2.15.0 in /home/tomi/.pyenv/versions/3.10.6/envs/which_horse/lib/python3.10/site-packages (from tensorflow) (2.15.0)\n",
      "Requirement already satisfied: wheel<1.0,>=0.23.0 in /home/tomi/.pyenv/versions/3.10.6/envs/which_horse/lib/python3.10/site-packages (from astunparse>=1.6.0->tensorflow) (0.42.0)\n",
      "Requirement already satisfied: google-auth<3,>=1.6.3 in /home/tomi/.pyenv/versions/3.10.6/envs/which_horse/lib/python3.10/site-packages (from tensorboard<2.16,>=2.15->tensorflow) (2.28.1)\n",
      "Requirement already satisfied: google-auth-oauthlib<2,>=0.5 in /home/tomi/.pyenv/versions/3.10.6/envs/which_horse/lib/python3.10/site-packages (from tensorboard<2.16,>=2.15->tensorflow) (1.2.0)\n",
      "Requirement already satisfied: markdown>=2.6.8 in /home/tomi/.pyenv/versions/3.10.6/envs/which_horse/lib/python3.10/site-packages (from tensorboard<2.16,>=2.15->tensorflow) (3.5.2)\n",
      "Requirement already satisfied: requests<3,>=2.21.0 in /home/tomi/.pyenv/versions/3.10.6/envs/which_horse/lib/python3.10/site-packages (from tensorboard<2.16,>=2.15->tensorflow) (2.31.0)\n",
      "Requirement already satisfied: tensorboard-data-server<0.8.0,>=0.7.0 in /home/tomi/.pyenv/versions/3.10.6/envs/which_horse/lib/python3.10/site-packages (from tensorboard<2.16,>=2.15->tensorflow) (0.7.2)\n",
      "Requirement already satisfied: werkzeug>=1.0.1 in /home/tomi/.pyenv/versions/3.10.6/envs/which_horse/lib/python3.10/site-packages (from tensorboard<2.16,>=2.15->tensorflow) (3.0.1)\n",
      "Requirement already satisfied: cachetools<6.0,>=2.0.0 in /home/tomi/.pyenv/versions/3.10.6/envs/which_horse/lib/python3.10/site-packages (from google-auth<3,>=1.6.3->tensorboard<2.16,>=2.15->tensorflow) (5.3.3)\n",
      "Requirement already satisfied: pyasn1-modules>=0.2.1 in /home/tomi/.pyenv/versions/3.10.6/envs/which_horse/lib/python3.10/site-packages (from google-auth<3,>=1.6.3->tensorboard<2.16,>=2.15->tensorflow) (0.3.0)\n",
      "Requirement already satisfied: rsa<5,>=3.1.4 in /home/tomi/.pyenv/versions/3.10.6/envs/which_horse/lib/python3.10/site-packages (from google-auth<3,>=1.6.3->tensorboard<2.16,>=2.15->tensorflow) (4.9)\n",
      "Requirement already satisfied: requests-oauthlib>=0.7.0 in /home/tomi/.pyenv/versions/3.10.6/envs/which_horse/lib/python3.10/site-packages (from google-auth-oauthlib<2,>=0.5->tensorboard<2.16,>=2.15->tensorflow) (1.3.1)\n",
      "Requirement already satisfied: charset-normalizer<4,>=2 in /home/tomi/.pyenv/versions/3.10.6/envs/which_horse/lib/python3.10/site-packages (from requests<3,>=2.21.0->tensorboard<2.16,>=2.15->tensorflow) (3.3.2)\n",
      "Requirement already satisfied: idna<4,>=2.5 in /home/tomi/.pyenv/versions/3.10.6/envs/which_horse/lib/python3.10/site-packages (from requests<3,>=2.21.0->tensorboard<2.16,>=2.15->tensorflow) (3.6)\n",
      "Requirement already satisfied: urllib3<3,>=1.21.1 in /home/tomi/.pyenv/versions/3.10.6/envs/which_horse/lib/python3.10/site-packages (from requests<3,>=2.21.0->tensorboard<2.16,>=2.15->tensorflow) (2.2.1)\n",
      "Requirement already satisfied: certifi>=2017.4.17 in /home/tomi/.pyenv/versions/3.10.6/envs/which_horse/lib/python3.10/site-packages (from requests<3,>=2.21.0->tensorboard<2.16,>=2.15->tensorflow) (2024.2.2)\n",
      "Requirement already satisfied: MarkupSafe>=2.1.1 in /home/tomi/.pyenv/versions/3.10.6/envs/which_horse/lib/python3.10/site-packages (from werkzeug>=1.0.1->tensorboard<2.16,>=2.15->tensorflow) (2.1.5)\n",
      "Requirement already satisfied: pyasn1<0.6.0,>=0.4.6 in /home/tomi/.pyenv/versions/3.10.6/envs/which_horse/lib/python3.10/site-packages (from pyasn1-modules>=0.2.1->google-auth<3,>=1.6.3->tensorboard<2.16,>=2.15->tensorflow) (0.5.1)\n",
      "Requirement already satisfied: oauthlib>=3.0.0 in /home/tomi/.pyenv/versions/3.10.6/envs/which_horse/lib/python3.10/site-packages (from requests-oauthlib>=0.7.0->google-auth-oauthlib<2,>=0.5->tensorboard<2.16,>=2.15->tensorflow) (3.2.2)\n"
     ]
    }
   ],
   "source": [
    "!ls\n",
    "!pip install --upgrade tensorflow"
   ]
  },
  {
   "cell_type": "code",
   "execution_count": 3,
   "id": "2613caa6",
   "metadata": {},
   "outputs": [],
   "source": [
    "# import pandas as pd\n",
    "# import seaborn as sns\n",
    "# import matplotlib.pyplot as plt\n",
    "# import numpy as np\n",
    "# from sklearn.model_selection import train_test_split\n",
    "# !pip install tensorflow --upgrade"
   ]
  },
  {
   "cell_type": "code",
   "execution_count": 2,
   "id": "c726f477",
   "metadata": {},
   "outputs": [
    {
     "name": "stderr",
     "output_type": "stream",
     "text": [
      "2024-03-08 17:43:27.065065: I tensorflow/core/util/port.cc:113] oneDNN custom operations are on. You may see slightly different numerical results due to floating-point round-off errors from different computation orders. To turn them off, set the environment variable `TF_ENABLE_ONEDNN_OPTS=0`.\n",
      "2024-03-08 17:43:27.074556: I external/local_tsl/tsl/cuda/cudart_stub.cc:31] Could not find cuda drivers on your machine, GPU will not be used.\n",
      "2024-03-08 17:43:27.173215: E external/local_xla/xla/stream_executor/cuda/cuda_dnn.cc:9261] Unable to register cuDNN factory: Attempting to register factory for plugin cuDNN when one has already been registered\n",
      "2024-03-08 17:43:27.173289: E external/local_xla/xla/stream_executor/cuda/cuda_fft.cc:607] Unable to register cuFFT factory: Attempting to register factory for plugin cuFFT when one has already been registered\n",
      "2024-03-08 17:43:27.183362: E external/local_xla/xla/stream_executor/cuda/cuda_blas.cc:1515] Unable to register cuBLAS factory: Attempting to register factory for plugin cuBLAS when one has already been registered\n",
      "2024-03-08 17:43:27.219902: I external/local_tsl/tsl/cuda/cudart_stub.cc:31] Could not find cuda drivers on your machine, GPU will not be used.\n",
      "2024-03-08 17:43:27.222082: I tensorflow/core/platform/cpu_feature_guard.cc:182] This TensorFlow binary is optimized to use available CPU instructions in performance-critical operations.\n",
      "To enable the following instructions: AVX2 AVX_VNNI FMA, in other operations, rebuild TensorFlow with the appropriate compiler flags.\n",
      "2024-03-08 17:43:28.249335: W tensorflow/compiler/tf2tensorrt/utils/py_utils.cc:38] TF-TRT Warning: Could not find TensorRT\n"
     ]
    }
   ],
   "source": [
    "import pandas as pd\n",
    "import numpy as np\n",
    "import sklearn.model_selection as model_selection\n",
    "import matplotlib.pyplot as plt\n",
    "import seaborn as sns\n",
    "from tensorflow.keras.optimizers import Adam\n",
    "import tensorflow as tf"
   ]
  },
  {
   "cell_type": "code",
   "execution_count": 3,
   "id": "82924c0c",
   "metadata": {},
   "outputs": [],
   "source": [
    "from tensorflow.keras import Sequential, layers\n",
    "from tensorflow.keras import metrics\n",
    "from tensorflow.keras.layers import Normalization \n",
    "from sklearn.pipeline import make_pipeline\n",
    "from sklearn.model_selection import train_test_split\n",
    "import datetime as dt\n",
    "from tensorflow.keras import models"
   ]
  },
  {
   "cell_type": "code",
   "execution_count": 4,
   "id": "83ed6c9b",
   "metadata": {},
   "outputs": [],
   "source": [
    "from tensorflow import keras\n",
    "from keras import Model, Sequential, layers, regularizers, optimizers\n",
    "from keras.callbacks import EarlyStopping"
   ]
  },
  {
   "cell_type": "code",
   "execution_count": 5,
   "id": "e0842898",
   "metadata": {},
   "outputs": [],
   "source": [
    "from tensorflow.keras.callbacks import EarlyStopping"
   ]
  },
  {
   "cell_type": "code",
   "execution_count": 6,
   "id": "1a691160",
   "metadata": {},
   "outputs": [
    {
     "name": "stdout",
     "output_type": "stream",
     "text": [
      "'Concat Data.ipynb'\t\t   pipeline_cleaning.py\n",
      " Deep_Learning_model-0803.ipynb    __pycache__\n",
      " Deep_Learning_model.ipynb\t   WeatherAPI.ipynb\n",
      " Feature_Engineering_Clean.ipynb   which_horse_flat.ipynb\n",
      " HorseAgeAtRace.ipynb\t\t   which_horse.ipynb\n",
      " Modelling_testing.ipynb\n"
     ]
    }
   ],
   "source": [
    "!ls"
   ]
  },
  {
   "cell_type": "code",
   "execution_count": 10,
   "id": "1a729a72",
   "metadata": {},
   "outputs": [
    {
     "data": {
      "text/html": [
       "<div>\n",
       "<style scoped>\n",
       "    .dataframe tbody tr th:only-of-type {\n",
       "        vertical-align: middle;\n",
       "    }\n",
       "\n",
       "    .dataframe tbody tr th {\n",
       "        vertical-align: top;\n",
       "    }\n",
       "\n",
       "    .dataframe thead th {\n",
       "        text-align: right;\n",
       "    }\n",
       "</style>\n",
       "<table border=\"1\" class=\"dataframe\">\n",
       "  <thead>\n",
       "    <tr style=\"text-align: right;\">\n",
       "      <th></th>\n",
       "      <th>meeting_id</th>\n",
       "      <th>meeting_name</th>\n",
       "      <th>date</th>\n",
       "      <th>country_code</th>\n",
       "      <th>event_number</th>\n",
       "      <th>distance</th>\n",
       "      <th>distance_unit</th>\n",
       "      <th>distance_furlongs</th>\n",
       "      <th>distance_raw_furlongs</th>\n",
       "      <th>race_class</th>\n",
       "      <th>...</th>\n",
       "      <th>run_7_dsr</th>\n",
       "      <th>run_8_raw_post_race_rating_int</th>\n",
       "      <th>run_8_raw_post_race_rating_symbol</th>\n",
       "      <th>run_8_final_rating_int</th>\n",
       "      <th>run_8_race_type</th>\n",
       "      <th>run_8_race_class</th>\n",
       "      <th>run_8_race_class_normalised</th>\n",
       "      <th>run_8_track_type</th>\n",
       "      <th>run_8_win_lose</th>\n",
       "      <th>run_8_dsr</th>\n",
       "    </tr>\n",
       "  </thead>\n",
       "  <tbody>\n",
       "    <tr>\n",
       "      <th>0</th>\n",
       "      <td>3668</td>\n",
       "      <td>AYR</td>\n",
       "      <td>2020-07-20</td>\n",
       "      <td>GBR</td>\n",
       "      <td>1</td>\n",
       "      <td>1100</td>\n",
       "      <td>yards</td>\n",
       "      <td>5f</td>\n",
       "      <td>5.0</td>\n",
       "      <td>6</td>\n",
       "      <td>...</td>\n",
       "      <td>420.0</td>\n",
       "      <td>73.0</td>\n",
       "      <td>NaN</td>\n",
       "      <td>80.0</td>\n",
       "      <td>FLAT</td>\n",
       "      <td>5</td>\n",
       "      <td>Novice</td>\n",
       "      <td>TURF</td>\n",
       "      <td>0.0</td>\n",
       "      <td>429.0</td>\n",
       "    </tr>\n",
       "    <tr>\n",
       "      <th>1</th>\n",
       "      <td>3668</td>\n",
       "      <td>AYR</td>\n",
       "      <td>2020-07-20</td>\n",
       "      <td>GBR</td>\n",
       "      <td>7</td>\n",
       "      <td>1760</td>\n",
       "      <td>yards</td>\n",
       "      <td>8f</td>\n",
       "      <td>8.0</td>\n",
       "      <td>6</td>\n",
       "      <td>...</td>\n",
       "      <td>304.0</td>\n",
       "      <td>63.0</td>\n",
       "      <td>+</td>\n",
       "      <td>74.0</td>\n",
       "      <td>FLAT</td>\n",
       "      <td>6</td>\n",
       "      <td>Handicap</td>\n",
       "      <td>AWT</td>\n",
       "      <td>1.0</td>\n",
       "      <td>317.0</td>\n",
       "    </tr>\n",
       "    <tr>\n",
       "      <th>2</th>\n",
       "      <td>3668</td>\n",
       "      <td>AYR</td>\n",
       "      <td>2020-07-20</td>\n",
       "      <td>GBR</td>\n",
       "      <td>7</td>\n",
       "      <td>1760</td>\n",
       "      <td>yards</td>\n",
       "      <td>8f</td>\n",
       "      <td>8.0</td>\n",
       "      <td>6</td>\n",
       "      <td>...</td>\n",
       "      <td>395.0</td>\n",
       "      <td>67.0</td>\n",
       "      <td>NaN</td>\n",
       "      <td>79.0</td>\n",
       "      <td>FLAT</td>\n",
       "      <td>4</td>\n",
       "      <td>Handicap</td>\n",
       "      <td>TURF</td>\n",
       "      <td>0.0</td>\n",
       "      <td>397.0</td>\n",
       "    </tr>\n",
       "    <tr>\n",
       "      <th>3</th>\n",
       "      <td>3668</td>\n",
       "      <td>AYR</td>\n",
       "      <td>2020-07-20</td>\n",
       "      <td>GBR</td>\n",
       "      <td>7</td>\n",
       "      <td>1760</td>\n",
       "      <td>yards</td>\n",
       "      <td>8f</td>\n",
       "      <td>8.0</td>\n",
       "      <td>6</td>\n",
       "      <td>...</td>\n",
       "      <td>327.0</td>\n",
       "      <td>67.0</td>\n",
       "      <td>?</td>\n",
       "      <td>77.0</td>\n",
       "      <td>FLAT</td>\n",
       "      <td>5</td>\n",
       "      <td>Handicap</td>\n",
       "      <td>TURF</td>\n",
       "      <td>0.0</td>\n",
       "      <td>339.0</td>\n",
       "    </tr>\n",
       "    <tr>\n",
       "      <th>4</th>\n",
       "      <td>3668</td>\n",
       "      <td>AYR</td>\n",
       "      <td>2020-07-20</td>\n",
       "      <td>GBR</td>\n",
       "      <td>7</td>\n",
       "      <td>1760</td>\n",
       "      <td>yards</td>\n",
       "      <td>8f</td>\n",
       "      <td>8.0</td>\n",
       "      <td>6</td>\n",
       "      <td>...</td>\n",
       "      <td>NaN</td>\n",
       "      <td>NaN</td>\n",
       "      <td>NaN</td>\n",
       "      <td>NaN</td>\n",
       "      <td>NaN</td>\n",
       "      <td>NaN</td>\n",
       "      <td>NaN</td>\n",
       "      <td>NaN</td>\n",
       "      <td>NaN</td>\n",
       "      <td>NaN</td>\n",
       "    </tr>\n",
       "    <tr>\n",
       "      <th>...</th>\n",
       "      <td>...</td>\n",
       "      <td>...</td>\n",
       "      <td>...</td>\n",
       "      <td>...</td>\n",
       "      <td>...</td>\n",
       "      <td>...</td>\n",
       "      <td>...</td>\n",
       "      <td>...</td>\n",
       "      <td>...</td>\n",
       "      <td>...</td>\n",
       "      <td>...</td>\n",
       "      <td>...</td>\n",
       "      <td>...</td>\n",
       "      <td>...</td>\n",
       "      <td>...</td>\n",
       "      <td>...</td>\n",
       "      <td>...</td>\n",
       "      <td>...</td>\n",
       "      <td>...</td>\n",
       "      <td>...</td>\n",
       "      <td>...</td>\n",
       "    </tr>\n",
       "    <tr>\n",
       "      <th>282001</th>\n",
       "      <td>37996</td>\n",
       "      <td>NEWMARKET</td>\n",
       "      <td>2023-09-28</td>\n",
       "      <td>GBR</td>\n",
       "      <td>3</td>\n",
       "      <td>1320</td>\n",
       "      <td>yards</td>\n",
       "      <td>6f</td>\n",
       "      <td>6.0</td>\n",
       "      <td>2</td>\n",
       "      <td>...</td>\n",
       "      <td>362.0</td>\n",
       "      <td>103.0</td>\n",
       "      <td>++</td>\n",
       "      <td>105.0</td>\n",
       "      <td>FLAT</td>\n",
       "      <td>1</td>\n",
       "      <td>Listed</td>\n",
       "      <td>TURF</td>\n",
       "      <td>1.0</td>\n",
       "      <td>377.0</td>\n",
       "    </tr>\n",
       "    <tr>\n",
       "      <th>282002</th>\n",
       "      <td>37996</td>\n",
       "      <td>NEWMARKET</td>\n",
       "      <td>2023-09-28</td>\n",
       "      <td>GBR</td>\n",
       "      <td>2</td>\n",
       "      <td>1760</td>\n",
       "      <td>yards</td>\n",
       "      <td>8f</td>\n",
       "      <td>8.0</td>\n",
       "      <td>4</td>\n",
       "      <td>...</td>\n",
       "      <td>NaN</td>\n",
       "      <td>NaN</td>\n",
       "      <td>NaN</td>\n",
       "      <td>NaN</td>\n",
       "      <td>NaN</td>\n",
       "      <td>NaN</td>\n",
       "      <td>NaN</td>\n",
       "      <td>NaN</td>\n",
       "      <td>NaN</td>\n",
       "      <td>NaN</td>\n",
       "    </tr>\n",
       "    <tr>\n",
       "      <th>282003</th>\n",
       "      <td>37996</td>\n",
       "      <td>NEWMARKET</td>\n",
       "      <td>2023-09-28</td>\n",
       "      <td>GBR</td>\n",
       "      <td>2</td>\n",
       "      <td>1760</td>\n",
       "      <td>yards</td>\n",
       "      <td>8f</td>\n",
       "      <td>8.0</td>\n",
       "      <td>4</td>\n",
       "      <td>...</td>\n",
       "      <td>NaN</td>\n",
       "      <td>NaN</td>\n",
       "      <td>NaN</td>\n",
       "      <td>NaN</td>\n",
       "      <td>NaN</td>\n",
       "      <td>NaN</td>\n",
       "      <td>NaN</td>\n",
       "      <td>NaN</td>\n",
       "      <td>NaN</td>\n",
       "      <td>NaN</td>\n",
       "    </tr>\n",
       "    <tr>\n",
       "      <th>282004</th>\n",
       "      <td>37996</td>\n",
       "      <td>NEWMARKET</td>\n",
       "      <td>2023-09-28</td>\n",
       "      <td>GBR</td>\n",
       "      <td>3</td>\n",
       "      <td>1320</td>\n",
       "      <td>yards</td>\n",
       "      <td>6f</td>\n",
       "      <td>6.0</td>\n",
       "      <td>2</td>\n",
       "      <td>...</td>\n",
       "      <td>448.0</td>\n",
       "      <td>101.0</td>\n",
       "      <td>NaN</td>\n",
       "      <td>123.0</td>\n",
       "      <td>FLAT</td>\n",
       "      <td>1</td>\n",
       "      <td>Group 3</td>\n",
       "      <td>TURF</td>\n",
       "      <td>0.0</td>\n",
       "      <td>468.0</td>\n",
       "    </tr>\n",
       "    <tr>\n",
       "      <th>282005</th>\n",
       "      <td>37996</td>\n",
       "      <td>NEWMARKET</td>\n",
       "      <td>2023-09-28</td>\n",
       "      <td>GBR</td>\n",
       "      <td>1</td>\n",
       "      <td>1760</td>\n",
       "      <td>yards</td>\n",
       "      <td>8f</td>\n",
       "      <td>8.0</td>\n",
       "      <td>4</td>\n",
       "      <td>...</td>\n",
       "      <td>NaN</td>\n",
       "      <td>NaN</td>\n",
       "      <td>NaN</td>\n",
       "      <td>NaN</td>\n",
       "      <td>NaN</td>\n",
       "      <td>NaN</td>\n",
       "      <td>NaN</td>\n",
       "      <td>NaN</td>\n",
       "      <td>NaN</td>\n",
       "      <td>NaN</td>\n",
       "    </tr>\n",
       "  </tbody>\n",
       "</table>\n",
       "<p>282006 rows × 121 columns</p>\n",
       "</div>"
      ],
      "text/plain": [
       "        meeting_id meeting_name        date country_code  event_number  \\\n",
       "0             3668          AYR  2020-07-20          GBR             1   \n",
       "1             3668          AYR  2020-07-20          GBR             7   \n",
       "2             3668          AYR  2020-07-20          GBR             7   \n",
       "3             3668          AYR  2020-07-20          GBR             7   \n",
       "4             3668          AYR  2020-07-20          GBR             7   \n",
       "...            ...          ...         ...          ...           ...   \n",
       "282001       37996    NEWMARKET  2023-09-28          GBR             3   \n",
       "282002       37996    NEWMARKET  2023-09-28          GBR             2   \n",
       "282003       37996    NEWMARKET  2023-09-28          GBR             2   \n",
       "282004       37996    NEWMARKET  2023-09-28          GBR             3   \n",
       "282005       37996    NEWMARKET  2023-09-28          GBR             1   \n",
       "\n",
       "        distance distance_unit distance_furlongs  distance_raw_furlongs  \\\n",
       "0           1100         yards                5f                    5.0   \n",
       "1           1760         yards                8f                    8.0   \n",
       "2           1760         yards                8f                    8.0   \n",
       "3           1760         yards                8f                    8.0   \n",
       "4           1760         yards                8f                    8.0   \n",
       "...          ...           ...               ...                    ...   \n",
       "282001      1320         yards                6f                    6.0   \n",
       "282002      1760         yards                8f                    8.0   \n",
       "282003      1760         yards                8f                    8.0   \n",
       "282004      1320         yards                6f                    6.0   \n",
       "282005      1760         yards                8f                    8.0   \n",
       "\n",
       "        race_class  ... run_7_dsr run_8_raw_post_race_rating_int  \\\n",
       "0                6  ...     420.0                           73.0   \n",
       "1                6  ...     304.0                           63.0   \n",
       "2                6  ...     395.0                           67.0   \n",
       "3                6  ...     327.0                           67.0   \n",
       "4                6  ...       NaN                            NaN   \n",
       "...            ...  ...       ...                            ...   \n",
       "282001           2  ...     362.0                          103.0   \n",
       "282002           4  ...       NaN                            NaN   \n",
       "282003           4  ...       NaN                            NaN   \n",
       "282004           2  ...     448.0                          101.0   \n",
       "282005           4  ...       NaN                            NaN   \n",
       "\n",
       "        run_8_raw_post_race_rating_symbol run_8_final_rating_int  \\\n",
       "0                                     NaN                   80.0   \n",
       "1                                       +                   74.0   \n",
       "2                                     NaN                   79.0   \n",
       "3                                       ?                   77.0   \n",
       "4                                     NaN                    NaN   \n",
       "...                                   ...                    ...   \n",
       "282001                                 ++                  105.0   \n",
       "282002                                NaN                    NaN   \n",
       "282003                                NaN                    NaN   \n",
       "282004                                NaN                  123.0   \n",
       "282005                                NaN                    NaN   \n",
       "\n",
       "       run_8_race_type run_8_race_class  run_8_race_class_normalised  \\\n",
       "0                 FLAT                5                       Novice   \n",
       "1                 FLAT                6                     Handicap   \n",
       "2                 FLAT                4                     Handicap   \n",
       "3                 FLAT                5                     Handicap   \n",
       "4                  NaN              NaN                          NaN   \n",
       "...                ...              ...                          ...   \n",
       "282001            FLAT                1                       Listed   \n",
       "282002             NaN              NaN                          NaN   \n",
       "282003             NaN              NaN                          NaN   \n",
       "282004            FLAT                1                      Group 3   \n",
       "282005             NaN              NaN                          NaN   \n",
       "\n",
       "        run_8_track_type  run_8_win_lose  run_8_dsr  \n",
       "0                   TURF             0.0      429.0  \n",
       "1                    AWT             1.0      317.0  \n",
       "2                   TURF             0.0      397.0  \n",
       "3                   TURF             0.0      339.0  \n",
       "4                    NaN             NaN        NaN  \n",
       "...                  ...             ...        ...  \n",
       "282001              TURF             1.0      377.0  \n",
       "282002               NaN             NaN        NaN  \n",
       "282003               NaN             NaN        NaN  \n",
       "282004              TURF             0.0      468.0  \n",
       "282005               NaN             NaN        NaN  \n",
       "\n",
       "[282006 rows x 121 columns]"
      ]
     },
     "execution_count": 10,
     "metadata": {},
     "output_type": "execute_result"
    }
   ],
   "source": [
    "df = pd.read_csv('../raw_data/combined_flat2_csv.csv')\n",
    "df"
   ]
  },
  {
   "cell_type": "code",
   "execution_count": 8,
   "id": "0311cfcb",
   "metadata": {
    "collapsed": true
   },
   "outputs": [],
   "source": [
    "import pipeline_cleaning\n"
   ]
  },
  {
   "cell_type": "code",
   "execution_count": 9,
   "id": "80187eb8",
   "metadata": {},
   "outputs": [
    {
     "ename": "KeyError",
     "evalue": "\"['run_8_dsrmeeting_name'] not found in axis\"",
     "output_type": "error",
     "traceback": [
      "\u001b[0;31m---------------------------------------------------------------------------\u001b[0m",
      "\u001b[0;31mKeyError\u001b[0m                                  Traceback (most recent call last)",
      "Cell \u001b[0;32mIn[9], line 1\u001b[0m\n\u001b[0;32m----> 1\u001b[0m \u001b[43mpipeline_cleaning\u001b[49m\u001b[38;5;241;43m.\u001b[39;49m\u001b[43mclean_data\u001b[49m\u001b[43m(\u001b[49m\u001b[43mdf\u001b[49m\u001b[43m)\u001b[49m\n",
      "File \u001b[0;32m~/code/Harlequinht/which_horse/notebook/pipeline_cleaning.py:15\u001b[0m, in \u001b[0;36mclean_data\u001b[0;34m(df)\u001b[0m\n\u001b[1;32m     14\u001b[0m \u001b[38;5;28;01mdef\u001b[39;00m \u001b[38;5;21mclean_data\u001b[39m(df):\n\u001b[0;32m---> 15\u001b[0m     \u001b[43mdf\u001b[49m\u001b[38;5;241;43m.\u001b[39;49m\u001b[43mdrop\u001b[49m\u001b[43m(\u001b[49m\u001b[43mcolumns\u001b[49m\u001b[38;5;241;43m=\u001b[39;49m\u001b[43m[\u001b[49m\u001b[38;5;124;43m'\u001b[39;49m\u001b[38;5;124;43mrun_1_raw_post_race_rating_int\u001b[39;49m\u001b[38;5;124;43m'\u001b[39;49m\u001b[43m,\u001b[49m\u001b[43m \u001b[49m\u001b[38;5;124;43m'\u001b[39;49m\u001b[38;5;124;43mrun_1_raw_post_race_rating_symbol\u001b[39;49m\u001b[38;5;124;43m'\u001b[39;49m\u001b[43m,\u001b[49m\u001b[43m \u001b[49m\u001b[38;5;124;43m'\u001b[39;49m\u001b[38;5;124;43mrun_1_final_rating_int\u001b[39;49m\u001b[38;5;124;43m'\u001b[39;49m\u001b[43m,\u001b[49m\n\u001b[1;32m     16\u001b[0m \u001b[43m            \u001b[49m\u001b[38;5;124;43m'\u001b[39;49m\u001b[38;5;124;43mrun_1_race_type\u001b[39;49m\u001b[38;5;124;43m'\u001b[39;49m\u001b[43m,\u001b[49m\u001b[43m \u001b[49m\u001b[38;5;124;43m'\u001b[39;49m\u001b[38;5;124;43mrun_1_race_class_normalised\u001b[39;49m\u001b[38;5;124;43m'\u001b[39;49m\u001b[43m,\u001b[49m\u001b[43m \u001b[49m\u001b[38;5;124;43m'\u001b[39;49m\u001b[38;5;124;43mrun_1_race_class\u001b[39;49m\u001b[38;5;124;43m'\u001b[39;49m\u001b[43m,\u001b[49m\u001b[43m \u001b[49m\u001b[38;5;124;43m'\u001b[39;49m\u001b[38;5;124;43mrun_1_track_type\u001b[39;49m\u001b[38;5;124;43m'\u001b[39;49m\u001b[43m,\u001b[49m\u001b[43m \u001b[49m\u001b[38;5;124;43m'\u001b[39;49m\u001b[38;5;124;43mrun_1_win_lose\u001b[39;49m\u001b[38;5;124;43m'\u001b[39;49m\u001b[43m,\u001b[49m\n\u001b[1;32m     17\u001b[0m \u001b[43m            \u001b[49m\u001b[38;5;124;43m'\u001b[39;49m\u001b[38;5;124;43mrun_1_dsr\u001b[39;49m\u001b[38;5;124;43m'\u001b[39;49m\u001b[43m,\u001b[49m\u001b[43m \u001b[49m\u001b[38;5;124;43m'\u001b[39;49m\u001b[38;5;124;43mrun_2_raw_post_race_rating_int\u001b[39;49m\u001b[38;5;124;43m'\u001b[39;49m\u001b[43m,\u001b[49m\u001b[43m \u001b[49m\u001b[38;5;124;43m'\u001b[39;49m\u001b[38;5;124;43mrun_2_raw_post_race_rating_symbol\u001b[39;49m\u001b[38;5;124;43m'\u001b[39;49m\u001b[43m,\u001b[49m\u001b[43m \u001b[49m\u001b[38;5;124;43m'\u001b[39;49m\u001b[38;5;124;43mrun_2_final_rating_int\u001b[39;49m\u001b[38;5;124;43m'\u001b[39;49m\u001b[43m,\u001b[49m\n\u001b[1;32m     18\u001b[0m \u001b[43m            \u001b[49m\u001b[38;5;124;43m'\u001b[39;49m\u001b[38;5;124;43mrun_2_race_type\u001b[39;49m\u001b[38;5;124;43m'\u001b[39;49m\u001b[43m,\u001b[49m\u001b[43m \u001b[49m\u001b[38;5;124;43m'\u001b[39;49m\u001b[38;5;124;43mrun_2_race_class\u001b[39;49m\u001b[38;5;124;43m'\u001b[39;49m\u001b[43m,\u001b[49m\u001b[43m \u001b[49m\u001b[38;5;124;43m'\u001b[39;49m\u001b[38;5;124;43mrun_2_race_class_normalised\u001b[39;49m\u001b[38;5;124;43m'\u001b[39;49m\u001b[43m,\u001b[49m\u001b[43m \u001b[49m\u001b[38;5;124;43m'\u001b[39;49m\u001b[38;5;124;43mrun_2_track_type\u001b[39;49m\u001b[38;5;124;43m'\u001b[39;49m\u001b[43m,\u001b[49m\u001b[43m \u001b[49m\u001b[38;5;124;43m'\u001b[39;49m\u001b[38;5;124;43mrun_2_win_lose\u001b[39;49m\u001b[38;5;124;43m'\u001b[39;49m\u001b[43m,\u001b[49m\n\u001b[1;32m     19\u001b[0m \u001b[43m            \u001b[49m\u001b[38;5;124;43m'\u001b[39;49m\u001b[38;5;124;43mrun_2_dsr\u001b[39;49m\u001b[38;5;124;43m'\u001b[39;49m\u001b[43m,\u001b[49m\u001b[43m \u001b[49m\u001b[38;5;124;43m'\u001b[39;49m\u001b[38;5;124;43mrun_3_raw_post_race_rating_int\u001b[39;49m\u001b[38;5;124;43m'\u001b[39;49m\u001b[43m,\u001b[49m\u001b[43m \u001b[49m\u001b[38;5;124;43m'\u001b[39;49m\u001b[38;5;124;43mrun_3_raw_post_race_rating_symbol\u001b[39;49m\u001b[38;5;124;43m'\u001b[39;49m\u001b[43m,\u001b[49m\u001b[43m \u001b[49m\u001b[38;5;124;43m'\u001b[39;49m\u001b[38;5;124;43mrun_3_final_rating_int\u001b[39;49m\u001b[38;5;124;43m'\u001b[39;49m\u001b[43m,\u001b[49m\n\u001b[1;32m     20\u001b[0m \u001b[43m            \u001b[49m\u001b[38;5;124;43m'\u001b[39;49m\u001b[38;5;124;43mrun_3_race_type\u001b[39;49m\u001b[38;5;124;43m'\u001b[39;49m\u001b[43m,\u001b[49m\u001b[43m \u001b[49m\u001b[38;5;124;43m'\u001b[39;49m\u001b[38;5;124;43mrun_3_race_class\u001b[39;49m\u001b[38;5;124;43m'\u001b[39;49m\u001b[43m,\u001b[49m\u001b[43m \u001b[49m\u001b[38;5;124;43m'\u001b[39;49m\u001b[38;5;124;43mrun_3_race_class_normalised\u001b[39;49m\u001b[38;5;124;43m'\u001b[39;49m\u001b[43m,\u001b[49m\u001b[43m \u001b[49m\u001b[38;5;124;43m'\u001b[39;49m\u001b[38;5;124;43mrun_3_track_type\u001b[39;49m\u001b[38;5;124;43m'\u001b[39;49m\u001b[43m,\u001b[49m\u001b[43m \u001b[49m\u001b[38;5;124;43m'\u001b[39;49m\u001b[38;5;124;43mrun_3_win_lose\u001b[39;49m\u001b[38;5;124;43m'\u001b[39;49m\u001b[43m,\u001b[49m\n\u001b[1;32m     21\u001b[0m \u001b[43m            \u001b[49m\u001b[38;5;124;43m'\u001b[39;49m\u001b[38;5;124;43mrun_3_dsr\u001b[39;49m\u001b[38;5;124;43m'\u001b[39;49m\u001b[43m,\u001b[49m\u001b[43m \u001b[49m\u001b[38;5;124;43m'\u001b[39;49m\u001b[38;5;124;43mrun_4_raw_post_race_rating_int\u001b[39;49m\u001b[38;5;124;43m'\u001b[39;49m\u001b[43m,\u001b[49m\u001b[43m \u001b[49m\u001b[38;5;124;43m'\u001b[39;49m\u001b[38;5;124;43mrun_4_raw_post_race_rating_symbol\u001b[39;49m\u001b[38;5;124;43m'\u001b[39;49m\u001b[43m,\u001b[49m\u001b[43m \u001b[49m\u001b[38;5;124;43m'\u001b[39;49m\u001b[38;5;124;43mrun_4_final_rating_int\u001b[39;49m\u001b[38;5;124;43m'\u001b[39;49m\u001b[43m,\u001b[49m\n\u001b[1;32m     22\u001b[0m \u001b[43m            \u001b[49m\u001b[38;5;124;43m'\u001b[39;49m\u001b[38;5;124;43mrun_4_race_type\u001b[39;49m\u001b[38;5;124;43m'\u001b[39;49m\u001b[43m,\u001b[49m\u001b[43m \u001b[49m\u001b[38;5;124;43m'\u001b[39;49m\u001b[38;5;124;43mrun_4_race_class\u001b[39;49m\u001b[38;5;124;43m'\u001b[39;49m\u001b[43m,\u001b[49m\u001b[43m \u001b[49m\u001b[38;5;124;43m'\u001b[39;49m\u001b[38;5;124;43mrun_4_race_class_normalised\u001b[39;49m\u001b[38;5;124;43m'\u001b[39;49m\u001b[43m,\u001b[49m\u001b[43m \u001b[49m\u001b[38;5;124;43m'\u001b[39;49m\u001b[38;5;124;43mrun_4_track_type\u001b[39;49m\u001b[38;5;124;43m'\u001b[39;49m\u001b[43m,\u001b[49m\u001b[43m \u001b[49m\u001b[38;5;124;43m'\u001b[39;49m\u001b[38;5;124;43mrun_4_win_lose\u001b[39;49m\u001b[38;5;124;43m'\u001b[39;49m\u001b[43m,\u001b[49m\n\u001b[1;32m     23\u001b[0m \u001b[43m            \u001b[49m\u001b[38;5;124;43m'\u001b[39;49m\u001b[38;5;124;43mrun_4_dsr\u001b[39;49m\u001b[38;5;124;43m'\u001b[39;49m\u001b[43m,\u001b[49m\u001b[43m \u001b[49m\u001b[38;5;124;43m'\u001b[39;49m\u001b[38;5;124;43mrun_5_raw_post_race_rating_int\u001b[39;49m\u001b[38;5;124;43m'\u001b[39;49m\u001b[43m,\u001b[49m\u001b[43m \u001b[49m\u001b[38;5;124;43m'\u001b[39;49m\u001b[38;5;124;43mrun_5_raw_post_race_rating_symbol\u001b[39;49m\u001b[38;5;124;43m'\u001b[39;49m\u001b[43m,\u001b[49m\u001b[43m \u001b[49m\u001b[38;5;124;43m'\u001b[39;49m\u001b[38;5;124;43mrun_5_final_rating_int\u001b[39;49m\u001b[38;5;124;43m'\u001b[39;49m\u001b[43m,\u001b[49m\n\u001b[1;32m     24\u001b[0m \u001b[43m            \u001b[49m\u001b[38;5;124;43m'\u001b[39;49m\u001b[38;5;124;43mrun_5_race_type\u001b[39;49m\u001b[38;5;124;43m'\u001b[39;49m\u001b[43m,\u001b[49m\u001b[43m \u001b[49m\u001b[38;5;124;43m'\u001b[39;49m\u001b[38;5;124;43mrun_5_race_class\u001b[39;49m\u001b[38;5;124;43m'\u001b[39;49m\u001b[43m,\u001b[49m\u001b[43m \u001b[49m\u001b[38;5;124;43m'\u001b[39;49m\u001b[38;5;124;43mrun_5_race_class_normalised\u001b[39;49m\u001b[38;5;124;43m'\u001b[39;49m\u001b[43m,\u001b[49m\u001b[43m \u001b[49m\u001b[38;5;124;43m'\u001b[39;49m\u001b[38;5;124;43mrun_5_track_type\u001b[39;49m\u001b[38;5;124;43m'\u001b[39;49m\u001b[43m,\u001b[49m\u001b[43m \u001b[49m\u001b[38;5;124;43m'\u001b[39;49m\u001b[38;5;124;43mrun_5_win_lose\u001b[39;49m\u001b[38;5;124;43m'\u001b[39;49m\u001b[43m,\u001b[49m\n\u001b[1;32m     25\u001b[0m \u001b[43m            \u001b[49m\u001b[38;5;124;43m'\u001b[39;49m\u001b[38;5;124;43mrun_5_dsr\u001b[39;49m\u001b[38;5;124;43m'\u001b[39;49m\u001b[43m,\u001b[49m\u001b[43m \u001b[49m\u001b[38;5;124;43m'\u001b[39;49m\u001b[38;5;124;43mrun_6_raw_post_race_rating_int\u001b[39;49m\u001b[38;5;124;43m'\u001b[39;49m\u001b[43m,\u001b[49m\u001b[43m \u001b[49m\u001b[38;5;124;43m'\u001b[39;49m\u001b[38;5;124;43mrun_6_raw_post_race_rating_symbol\u001b[39;49m\u001b[38;5;124;43m'\u001b[39;49m\u001b[43m,\u001b[49m\u001b[43m \u001b[49m\u001b[38;5;124;43m'\u001b[39;49m\u001b[38;5;124;43mrun_6_final_rating_int\u001b[39;49m\u001b[38;5;124;43m'\u001b[39;49m\u001b[43m,\u001b[49m\n\u001b[1;32m     26\u001b[0m \u001b[43m            \u001b[49m\u001b[38;5;124;43m'\u001b[39;49m\u001b[38;5;124;43mrun_6_race_type\u001b[39;49m\u001b[38;5;124;43m'\u001b[39;49m\u001b[43m,\u001b[49m\u001b[43m \u001b[49m\u001b[38;5;124;43m'\u001b[39;49m\u001b[38;5;124;43mrun_6_race_class\u001b[39;49m\u001b[38;5;124;43m'\u001b[39;49m\u001b[43m,\u001b[49m\u001b[43m \u001b[49m\u001b[38;5;124;43m'\u001b[39;49m\u001b[38;5;124;43mrun_6_race_class_normalised\u001b[39;49m\u001b[38;5;124;43m'\u001b[39;49m\u001b[43m,\u001b[49m\u001b[43m \u001b[49m\u001b[38;5;124;43m'\u001b[39;49m\u001b[38;5;124;43mrun_6_track_type\u001b[39;49m\u001b[38;5;124;43m'\u001b[39;49m\u001b[43m,\u001b[49m\u001b[43m \u001b[49m\u001b[38;5;124;43m'\u001b[39;49m\u001b[38;5;124;43mrun_6_win_lose\u001b[39;49m\u001b[38;5;124;43m'\u001b[39;49m\u001b[43m,\u001b[49m\n\u001b[1;32m     27\u001b[0m \u001b[43m            \u001b[49m\u001b[38;5;124;43m'\u001b[39;49m\u001b[38;5;124;43mrun_6_dsr\u001b[39;49m\u001b[38;5;124;43m'\u001b[39;49m\u001b[43m,\u001b[49m\u001b[43m \u001b[49m\u001b[38;5;124;43m'\u001b[39;49m\u001b[38;5;124;43mrun_7_raw_post_race_rating_int\u001b[39;49m\u001b[38;5;124;43m'\u001b[39;49m\u001b[43m,\u001b[49m\u001b[43m \u001b[49m\u001b[38;5;124;43m'\u001b[39;49m\u001b[38;5;124;43mrun_7_raw_post_race_rating_symbol\u001b[39;49m\u001b[38;5;124;43m'\u001b[39;49m\u001b[43m,\u001b[49m\u001b[43m \u001b[49m\u001b[38;5;124;43m'\u001b[39;49m\u001b[38;5;124;43mrun_7_final_rating_int\u001b[39;49m\u001b[38;5;124;43m'\u001b[39;49m\u001b[43m,\u001b[49m\n\u001b[1;32m     28\u001b[0m \u001b[43m            \u001b[49m\u001b[38;5;124;43m'\u001b[39;49m\u001b[38;5;124;43mrun_7_race_type\u001b[39;49m\u001b[38;5;124;43m'\u001b[39;49m\u001b[43m,\u001b[49m\u001b[43m \u001b[49m\u001b[38;5;124;43m'\u001b[39;49m\u001b[38;5;124;43mrun_7_race_class\u001b[39;49m\u001b[38;5;124;43m'\u001b[39;49m\u001b[43m,\u001b[49m\u001b[43m \u001b[49m\u001b[38;5;124;43m'\u001b[39;49m\u001b[38;5;124;43mrun_7_race_class_normalised\u001b[39;49m\u001b[38;5;124;43m'\u001b[39;49m\u001b[43m,\u001b[49m\u001b[43m \u001b[49m\u001b[38;5;124;43m'\u001b[39;49m\u001b[38;5;124;43mrun_7_track_type\u001b[39;49m\u001b[38;5;124;43m'\u001b[39;49m\u001b[43m,\u001b[49m\u001b[43m \u001b[49m\u001b[38;5;124;43m'\u001b[39;49m\u001b[38;5;124;43mrun_7_win_lose\u001b[39;49m\u001b[38;5;124;43m'\u001b[39;49m\u001b[43m,\u001b[49m\n\u001b[1;32m     29\u001b[0m \u001b[43m            \u001b[49m\u001b[38;5;124;43m'\u001b[39;49m\u001b[38;5;124;43mrun_7_dsr\u001b[39;49m\u001b[38;5;124;43m'\u001b[39;49m\u001b[43m,\u001b[49m\u001b[43m \u001b[49m\u001b[38;5;124;43m'\u001b[39;49m\u001b[38;5;124;43mrun_8_raw_post_race_rating_int\u001b[39;49m\u001b[38;5;124;43m'\u001b[39;49m\u001b[43m,\u001b[49m\u001b[43m \u001b[49m\u001b[38;5;124;43m'\u001b[39;49m\u001b[38;5;124;43mrun_8_raw_post_race_rating_symbol\u001b[39;49m\u001b[38;5;124;43m'\u001b[39;49m\u001b[43m,\u001b[49m\u001b[43m \u001b[49m\u001b[38;5;124;43m'\u001b[39;49m\u001b[38;5;124;43mrun_8_final_rating_int\u001b[39;49m\u001b[38;5;124;43m'\u001b[39;49m\u001b[43m,\u001b[49m\n\u001b[1;32m     30\u001b[0m \u001b[43m            \u001b[49m\u001b[38;5;124;43m'\u001b[39;49m\u001b[38;5;124;43mrun_8_race_type\u001b[39;49m\u001b[38;5;124;43m'\u001b[39;49m\u001b[43m,\u001b[49m\u001b[43m \u001b[49m\u001b[38;5;124;43m'\u001b[39;49m\u001b[38;5;124;43mrun_8_race_class\u001b[39;49m\u001b[38;5;124;43m'\u001b[39;49m\u001b[43m,\u001b[49m\u001b[43m \u001b[49m\u001b[38;5;124;43m'\u001b[39;49m\u001b[38;5;124;43mrun_8_race_class_normalised\u001b[39;49m\u001b[38;5;124;43m'\u001b[39;49m\u001b[43m,\u001b[49m\u001b[43m \u001b[49m\u001b[38;5;124;43m'\u001b[39;49m\u001b[38;5;124;43mrun_8_track_type\u001b[39;49m\u001b[38;5;124;43m'\u001b[39;49m\u001b[43m,\u001b[49m\u001b[43m \u001b[49m\u001b[38;5;124;43m'\u001b[39;49m\u001b[38;5;124;43mrun_8_win_lose\u001b[39;49m\u001b[38;5;124;43m'\u001b[39;49m\u001b[43m,\u001b[49m\n\u001b[1;32m     31\u001b[0m \u001b[43m            \u001b[49m\u001b[38;5;124;43m'\u001b[39;49m\u001b[38;5;124;43mrun_8_dsr\u001b[39;49m\u001b[38;5;124;43m'\u001b[39;49m\u001b[38;5;124;43m'\u001b[39;49m\u001b[38;5;124;43mmeeting_name\u001b[39;49m\u001b[38;5;124;43m'\u001b[39;49m\u001b[43m,\u001b[49m\u001b[43m \u001b[49m\u001b[38;5;124;43m'\u001b[39;49m\u001b[38;5;124;43mcountry_code\u001b[39;49m\u001b[38;5;124;43m'\u001b[39;49m\u001b[43m,\u001b[49m\u001b[43m \u001b[49m\u001b[38;5;124;43m'\u001b[39;49m\u001b[38;5;124;43mdistance_unit\u001b[39;49m\u001b[38;5;124;43m'\u001b[39;49m\u001b[43m,\u001b[49m\u001b[38;5;124;43m'\u001b[39;49m\u001b[38;5;124;43mdistance_furlongs\u001b[39;49m\u001b[38;5;124;43m'\u001b[39;49m\u001b[43m,\u001b[49m\u001b[43m \u001b[49m\u001b[38;5;124;43m'\u001b[39;49m\u001b[38;5;124;43mprize_money_currency\u001b[39;49m\u001b[38;5;124;43m'\u001b[39;49m\u001b[43m,\u001b[49m\n\u001b[1;32m     32\u001b[0m \u001b[43m            \u001b[49m\u001b[38;5;124;43m'\u001b[39;49m\u001b[38;5;124;43mjockey_allowance_unit\u001b[39;49m\u001b[38;5;124;43m'\u001b[39;49m\u001b[43m,\u001b[49m\u001b[43m \u001b[49m\u001b[38;5;124;43m'\u001b[39;49m\u001b[38;5;124;43mhandicap_weight_unit\u001b[39;49m\u001b[38;5;124;43m'\u001b[39;49m\u001b[43m,\u001b[49m\u001b[43m \u001b[49m\u001b[38;5;124;43m'\u001b[39;49m\u001b[38;5;124;43mjockey_name\u001b[39;49m\u001b[38;5;124;43m'\u001b[39;49m\u001b[43m,\u001b[49m\u001b[43m \u001b[49m\u001b[38;5;124;43m'\u001b[39;49m\u001b[38;5;124;43mtrainer_name\u001b[39;49m\u001b[38;5;124;43m'\u001b[39;49m\u001b[43m,\u001b[49m\u001b[43m \u001b[49m\u001b[38;5;124;43m'\u001b[39;49m\u001b[38;5;124;43mhorse_name\u001b[39;49m\u001b[38;5;124;43m'\u001b[39;49m\u001b[43m,\u001b[49m\n\u001b[1;32m     33\u001b[0m \u001b[43m            \u001b[49m\u001b[38;5;124;43m'\u001b[39;49m\u001b[38;5;124;43mpre_race_master_rating_symbol\u001b[39;49m\u001b[38;5;124;43m'\u001b[39;49m\u001b[43m,\u001b[49m\u001b[43m \u001b[49m\u001b[38;5;124;43m'\u001b[39;49m\u001b[38;5;124;43mpost_race_master_rating_symbol\u001b[39;49m\u001b[38;5;124;43m'\u001b[39;49m\u001b[43m,\u001b[49m\u001b[43m \u001b[49m\u001b[38;5;124;43m'\u001b[39;49m\u001b[38;5;124;43mpost_race_master_rating_int\u001b[39;49m\u001b[38;5;124;43m'\u001b[39;49m\u001b[43m,\u001b[49m\n\u001b[1;32m     34\u001b[0m \u001b[43m            \u001b[49m\u001b[38;5;124;43m'\u001b[39;49m\u001b[38;5;124;43mbet365_odds\u001b[39;49m\u001b[38;5;124;43m'\u001b[39;49m\u001b[43m,\u001b[49m\u001b[43m \u001b[49m\u001b[38;5;124;43m'\u001b[39;49m\u001b[38;5;124;43mpmu_odds\u001b[39;49m\u001b[38;5;124;43m'\u001b[39;49m\u001b[43m,\u001b[49m\u001b[43m \u001b[49m\u001b[38;5;124;43m'\u001b[39;49m\u001b[38;5;124;43mmeeting_id\u001b[39;49m\u001b[38;5;124;43m'\u001b[39;49m\u001b[43m,\u001b[49m\u001b[43m \u001b[49m\u001b[38;5;124;43m'\u001b[39;49m\u001b[38;5;124;43mdistance_raw_furlongs\u001b[39;49m\u001b[38;5;124;43m'\u001b[39;49m\u001b[43m,\u001b[49m\u001b[43m \u001b[49m\u001b[38;5;124;43m'\u001b[39;49m\u001b[38;5;124;43mnumber\u001b[39;49m\u001b[38;5;124;43m'\u001b[39;49m\u001b[43m,\u001b[49m\u001b[43m \u001b[49m\u001b[38;5;124;43m'\u001b[39;49m\u001b[38;5;124;43mhorse_id\u001b[39;49m\u001b[38;5;124;43m'\u001b[39;49m\u001b[43m,\u001b[49m\u001b[43m \u001b[49m\u001b[38;5;124;43m'\u001b[39;49m\u001b[38;5;124;43mage\u001b[39;49m\u001b[38;5;124;43m'\u001b[39;49m\u001b[43m]\u001b[49m\u001b[43m,\u001b[49m\u001b[43m \u001b[49m\u001b[43minplace\u001b[49m\u001b[38;5;241;43m=\u001b[39;49m\u001b[38;5;28;43;01mTrue\u001b[39;49;00m\u001b[43m)\u001b[49m\n\u001b[1;32m     35\u001b[0m     df[\u001b[38;5;124m'\u001b[39m\u001b[38;5;124mgear\u001b[39m\u001b[38;5;124m'\u001b[39m] \u001b[38;5;241m=\u001b[39m df[\u001b[38;5;124m'\u001b[39m\u001b[38;5;124mgear\u001b[39m\u001b[38;5;124m'\u001b[39m]\u001b[38;5;241m.\u001b[39mapply(\u001b[38;5;28;01mlambda\u001b[39;00m x: \u001b[38;5;241m0\u001b[39m \u001b[38;5;28;01mif\u001b[39;00m pd\u001b[38;5;241m.\u001b[39misna(x) \u001b[38;5;28;01melse\u001b[39;00m \u001b[38;5;241m1\u001b[39m)\n\u001b[1;32m     36\u001b[0m     df[\u001b[38;5;124m'\u001b[39m\u001b[38;5;124mbarrier\u001b[39m\u001b[38;5;124m'\u001b[39m] \u001b[38;5;241m=\u001b[39m df[df[\u001b[38;5;124m'\u001b[39m\u001b[38;5;124mbarrier\u001b[39m\u001b[38;5;124m'\u001b[39m] \u001b[38;5;241m<\u001b[39m\u001b[38;5;241m=\u001b[39m \u001b[38;5;241m20\u001b[39m]\n",
      "File \u001b[0;32m~/.pyenv/versions/3.10.6/envs/which_horse/lib/python3.10/site-packages/pandas/core/frame.py:5568\u001b[0m, in \u001b[0;36mDataFrame.drop\u001b[0;34m(self, labels, axis, index, columns, level, inplace, errors)\u001b[0m\n\u001b[1;32m   5420\u001b[0m \u001b[38;5;28;01mdef\u001b[39;00m \u001b[38;5;21mdrop\u001b[39m(\n\u001b[1;32m   5421\u001b[0m     \u001b[38;5;28mself\u001b[39m,\n\u001b[1;32m   5422\u001b[0m     labels: IndexLabel \u001b[38;5;241m|\u001b[39m \u001b[38;5;28;01mNone\u001b[39;00m \u001b[38;5;241m=\u001b[39m \u001b[38;5;28;01mNone\u001b[39;00m,\n\u001b[0;32m   (...)\u001b[0m\n\u001b[1;32m   5429\u001b[0m     errors: IgnoreRaise \u001b[38;5;241m=\u001b[39m \u001b[38;5;124m\"\u001b[39m\u001b[38;5;124mraise\u001b[39m\u001b[38;5;124m\"\u001b[39m,\n\u001b[1;32m   5430\u001b[0m ) \u001b[38;5;241m-\u001b[39m\u001b[38;5;241m>\u001b[39m DataFrame \u001b[38;5;241m|\u001b[39m \u001b[38;5;28;01mNone\u001b[39;00m:\n\u001b[1;32m   5431\u001b[0m \u001b[38;5;250m    \u001b[39m\u001b[38;5;124;03m\"\"\"\u001b[39;00m\n\u001b[1;32m   5432\u001b[0m \u001b[38;5;124;03m    Drop specified labels from rows or columns.\u001b[39;00m\n\u001b[1;32m   5433\u001b[0m \n\u001b[0;32m   (...)\u001b[0m\n\u001b[1;32m   5566\u001b[0m \u001b[38;5;124;03m            weight  1.0     0.8\u001b[39;00m\n\u001b[1;32m   5567\u001b[0m \u001b[38;5;124;03m    \"\"\"\u001b[39;00m\n\u001b[0;32m-> 5568\u001b[0m     \u001b[38;5;28;01mreturn\u001b[39;00m \u001b[38;5;28;43msuper\u001b[39;49m\u001b[43m(\u001b[49m\u001b[43m)\u001b[49m\u001b[38;5;241;43m.\u001b[39;49m\u001b[43mdrop\u001b[49m\u001b[43m(\u001b[49m\n\u001b[1;32m   5569\u001b[0m \u001b[43m        \u001b[49m\u001b[43mlabels\u001b[49m\u001b[38;5;241;43m=\u001b[39;49m\u001b[43mlabels\u001b[49m\u001b[43m,\u001b[49m\n\u001b[1;32m   5570\u001b[0m \u001b[43m        \u001b[49m\u001b[43maxis\u001b[49m\u001b[38;5;241;43m=\u001b[39;49m\u001b[43maxis\u001b[49m\u001b[43m,\u001b[49m\n\u001b[1;32m   5571\u001b[0m \u001b[43m        \u001b[49m\u001b[43mindex\u001b[49m\u001b[38;5;241;43m=\u001b[39;49m\u001b[43mindex\u001b[49m\u001b[43m,\u001b[49m\n\u001b[1;32m   5572\u001b[0m \u001b[43m        \u001b[49m\u001b[43mcolumns\u001b[49m\u001b[38;5;241;43m=\u001b[39;49m\u001b[43mcolumns\u001b[49m\u001b[43m,\u001b[49m\n\u001b[1;32m   5573\u001b[0m \u001b[43m        \u001b[49m\u001b[43mlevel\u001b[49m\u001b[38;5;241;43m=\u001b[39;49m\u001b[43mlevel\u001b[49m\u001b[43m,\u001b[49m\n\u001b[1;32m   5574\u001b[0m \u001b[43m        \u001b[49m\u001b[43minplace\u001b[49m\u001b[38;5;241;43m=\u001b[39;49m\u001b[43minplace\u001b[49m\u001b[43m,\u001b[49m\n\u001b[1;32m   5575\u001b[0m \u001b[43m        \u001b[49m\u001b[43merrors\u001b[49m\u001b[38;5;241;43m=\u001b[39;49m\u001b[43merrors\u001b[49m\u001b[43m,\u001b[49m\n\u001b[1;32m   5576\u001b[0m \u001b[43m    \u001b[49m\u001b[43m)\u001b[49m\n",
      "File \u001b[0;32m~/.pyenv/versions/3.10.6/envs/which_horse/lib/python3.10/site-packages/pandas/core/generic.py:4785\u001b[0m, in \u001b[0;36mNDFrame.drop\u001b[0;34m(self, labels, axis, index, columns, level, inplace, errors)\u001b[0m\n\u001b[1;32m   4783\u001b[0m \u001b[38;5;28;01mfor\u001b[39;00m axis, labels \u001b[38;5;129;01min\u001b[39;00m axes\u001b[38;5;241m.\u001b[39mitems():\n\u001b[1;32m   4784\u001b[0m     \u001b[38;5;28;01mif\u001b[39;00m labels \u001b[38;5;129;01mis\u001b[39;00m \u001b[38;5;129;01mnot\u001b[39;00m \u001b[38;5;28;01mNone\u001b[39;00m:\n\u001b[0;32m-> 4785\u001b[0m         obj \u001b[38;5;241m=\u001b[39m \u001b[43mobj\u001b[49m\u001b[38;5;241;43m.\u001b[39;49m\u001b[43m_drop_axis\u001b[49m\u001b[43m(\u001b[49m\u001b[43mlabels\u001b[49m\u001b[43m,\u001b[49m\u001b[43m \u001b[49m\u001b[43maxis\u001b[49m\u001b[43m,\u001b[49m\u001b[43m \u001b[49m\u001b[43mlevel\u001b[49m\u001b[38;5;241;43m=\u001b[39;49m\u001b[43mlevel\u001b[49m\u001b[43m,\u001b[49m\u001b[43m \u001b[49m\u001b[43merrors\u001b[49m\u001b[38;5;241;43m=\u001b[39;49m\u001b[43merrors\u001b[49m\u001b[43m)\u001b[49m\n\u001b[1;32m   4787\u001b[0m \u001b[38;5;28;01mif\u001b[39;00m inplace:\n\u001b[1;32m   4788\u001b[0m     \u001b[38;5;28mself\u001b[39m\u001b[38;5;241m.\u001b[39m_update_inplace(obj)\n",
      "File \u001b[0;32m~/.pyenv/versions/3.10.6/envs/which_horse/lib/python3.10/site-packages/pandas/core/generic.py:4827\u001b[0m, in \u001b[0;36mNDFrame._drop_axis\u001b[0;34m(self, labels, axis, level, errors, only_slice)\u001b[0m\n\u001b[1;32m   4825\u001b[0m         new_axis \u001b[38;5;241m=\u001b[39m axis\u001b[38;5;241m.\u001b[39mdrop(labels, level\u001b[38;5;241m=\u001b[39mlevel, errors\u001b[38;5;241m=\u001b[39merrors)\n\u001b[1;32m   4826\u001b[0m     \u001b[38;5;28;01melse\u001b[39;00m:\n\u001b[0;32m-> 4827\u001b[0m         new_axis \u001b[38;5;241m=\u001b[39m \u001b[43maxis\u001b[49m\u001b[38;5;241;43m.\u001b[39;49m\u001b[43mdrop\u001b[49m\u001b[43m(\u001b[49m\u001b[43mlabels\u001b[49m\u001b[43m,\u001b[49m\u001b[43m \u001b[49m\u001b[43merrors\u001b[49m\u001b[38;5;241;43m=\u001b[39;49m\u001b[43merrors\u001b[49m\u001b[43m)\u001b[49m\n\u001b[1;32m   4828\u001b[0m     indexer \u001b[38;5;241m=\u001b[39m axis\u001b[38;5;241m.\u001b[39mget_indexer(new_axis)\n\u001b[1;32m   4830\u001b[0m \u001b[38;5;66;03m# Case for non-unique axis\u001b[39;00m\n\u001b[1;32m   4831\u001b[0m \u001b[38;5;28;01melse\u001b[39;00m:\n",
      "File \u001b[0;32m~/.pyenv/versions/3.10.6/envs/which_horse/lib/python3.10/site-packages/pandas/core/indexes/base.py:7070\u001b[0m, in \u001b[0;36mIndex.drop\u001b[0;34m(self, labels, errors)\u001b[0m\n\u001b[1;32m   7068\u001b[0m \u001b[38;5;28;01mif\u001b[39;00m mask\u001b[38;5;241m.\u001b[39many():\n\u001b[1;32m   7069\u001b[0m     \u001b[38;5;28;01mif\u001b[39;00m errors \u001b[38;5;241m!=\u001b[39m \u001b[38;5;124m\"\u001b[39m\u001b[38;5;124mignore\u001b[39m\u001b[38;5;124m\"\u001b[39m:\n\u001b[0;32m-> 7070\u001b[0m         \u001b[38;5;28;01mraise\u001b[39;00m \u001b[38;5;167;01mKeyError\u001b[39;00m(\u001b[38;5;124mf\u001b[39m\u001b[38;5;124m\"\u001b[39m\u001b[38;5;132;01m{\u001b[39;00mlabels[mask]\u001b[38;5;241m.\u001b[39mtolist()\u001b[38;5;132;01m}\u001b[39;00m\u001b[38;5;124m not found in axis\u001b[39m\u001b[38;5;124m\"\u001b[39m)\n\u001b[1;32m   7071\u001b[0m     indexer \u001b[38;5;241m=\u001b[39m indexer[\u001b[38;5;241m~\u001b[39mmask]\n\u001b[1;32m   7072\u001b[0m \u001b[38;5;28;01mreturn\u001b[39;00m \u001b[38;5;28mself\u001b[39m\u001b[38;5;241m.\u001b[39mdelete(indexer)\n",
      "\u001b[0;31mKeyError\u001b[0m: \"['run_8_dsrmeeting_name'] not found in axis\""
     ]
    }
   ],
   "source": [
    "pipeline_cleaning.clean_data(df)"
   ]
  },
  {
   "cell_type": "markdown",
   "id": "221d632b",
   "metadata": {},
   "source": [
    "# training data"
   ]
  },
  {
   "cell_type": "code",
   "execution_count": 11,
   "id": "f94285ef",
   "metadata": {},
   "outputs": [],
   "source": [
    "# X_train = df.loc[(df['date'] < '2023-01-01')]"
   ]
  },
  {
   "cell_type": "code",
   "execution_count": 12,
   "id": "03dc3f3f",
   "metadata": {},
   "outputs": [],
   "source": [
    "# X_train"
   ]
  },
  {
   "cell_type": "code",
   "execution_count": 13,
   "id": "8f10f11d",
   "metadata": {},
   "outputs": [],
   "source": [
    "# y_train_tmp = df.loc[(df['date'] < '2023-01-01')]"
   ]
  },
  {
   "cell_type": "code",
   "execution_count": 14,
   "id": "7b8593d9",
   "metadata": {},
   "outputs": [],
   "source": [
    "# y_train = y_train_tmp[['win_or_lose']]"
   ]
  },
  {
   "cell_type": "code",
   "execution_count": 15,
   "id": "551794a0",
   "metadata": {},
   "outputs": [],
   "source": [
    "# test = np.expand_dims(y_train,(2,0))"
   ]
  },
  {
   "cell_type": "code",
   "execution_count": 16,
   "id": "f1bad5fe",
   "metadata": {},
   "outputs": [],
   "source": [
    "# test.shape"
   ]
  },
  {
   "cell_type": "code",
   "execution_count": 17,
   "id": "1953168e",
   "metadata": {
    "collapsed": true
   },
   "outputs": [],
   "source": [
    "# X_train = X_train.drop(['Unnamed: 0','win_or_lose', 'date', 'birth_date'], axis = 1)"
   ]
  },
  {
   "cell_type": "code",
   "execution_count": 18,
   "id": "b09b0f56",
   "metadata": {
    "collapsed": true
   },
   "outputs": [],
   "source": [
    "# X_train.columns"
   ]
  },
  {
   "cell_type": "code",
   "execution_count": 19,
   "id": "a074eeb1",
   "metadata": {},
   "outputs": [],
   "source": [
    "# y_train"
   ]
  },
  {
   "cell_type": "markdown",
   "id": "b9ebd82f",
   "metadata": {},
   "source": [
    "# testing data"
   ]
  },
  {
   "cell_type": "code",
   "execution_count": 20,
   "id": "f5d271a4",
   "metadata": {},
   "outputs": [],
   "source": [
    "# X_test = df.loc[(df['date'] > '2023-01-01') < = (df['date'] > '2023-01-01')]"
   ]
  },
  {
   "cell_type": "code",
   "execution_count": 21,
   "id": "c59556af",
   "metadata": {},
   "outputs": [],
   "source": [
    "# X_test"
   ]
  },
  {
   "cell_type": "code",
   "execution_count": 22,
   "id": "d9f0bf70",
   "metadata": {},
   "outputs": [],
   "source": [
    "# y_test_tmp = df.loc[(df['date'] > '2023-01-01')]"
   ]
  },
  {
   "cell_type": "code",
   "execution_count": 23,
   "id": "78e72d62",
   "metadata": {},
   "outputs": [],
   "source": [
    "# y_test = y_test_tmp['win_or_lose']"
   ]
  },
  {
   "cell_type": "code",
   "execution_count": 24,
   "id": "42b4d5d7",
   "metadata": {},
   "outputs": [],
   "source": [
    "# X_test = X_test.drop(['win_or_lose', 'date', 'birth_date'], axis = 1)"
   ]
  },
  {
   "cell_type": "code",
   "execution_count": 25,
   "id": "7a388063",
   "metadata": {
    "collapsed": true
   },
   "outputs": [],
   "source": [
    "# filtered_df"
   ]
  },
  {
   "cell_type": "code",
   "execution_count": 26,
   "id": "96dcd775",
   "metadata": {},
   "outputs": [],
   "source": [
    "#X_train_split = len(X_train)*.2"
   ]
  },
  {
   "cell_type": "code",
   "execution_count": 27,
   "id": "5f155e3e",
   "metadata": {},
   "outputs": [],
   "source": [
    "# type(df['date'])"
   ]
  },
  {
   "cell_type": "code",
   "execution_count": 28,
   "id": "6994f88a",
   "metadata": {},
   "outputs": [],
   "source": [
    "# df_filtered = filtered_df.drop(columns='Unnamed: 0')"
   ]
  },
  {
   "cell_type": "code",
   "execution_count": 29,
   "id": "df51f56b",
   "metadata": {},
   "outputs": [],
   "source": [
    "# df_filtered.dtypes"
   ]
  },
  {
   "cell_type": "code",
   "execution_count": 30,
   "id": "97190734",
   "metadata": {
    "scrolled": false
   },
   "outputs": [],
   "source": [
    "# object_info = df.select_dtypes(include = 'object')"
   ]
  },
  {
   "cell_type": "code",
   "execution_count": 31,
   "id": "ad45ced7",
   "metadata": {},
   "outputs": [],
   "source": [
    "# object_info.head(5)"
   ]
  },
  {
   "cell_type": "code",
   "execution_count": 32,
   "id": "3c16d7b9",
   "metadata": {},
   "outputs": [],
   "source": [
    "# #drop unnamed column as it's a replica of the index \n",
    "# df = df.drop(['date', 'birth_date'], axis = 1)"
   ]
  },
  {
   "cell_type": "code",
   "execution_count": 33,
   "id": "ede7fd99",
   "metadata": {},
   "outputs": [
    {
     "data": {
      "text/html": [
       "<div>\n",
       "<style scoped>\n",
       "    .dataframe tbody tr th:only-of-type {\n",
       "        vertical-align: middle;\n",
       "    }\n",
       "\n",
       "    .dataframe tbody tr th {\n",
       "        vertical-align: top;\n",
       "    }\n",
       "\n",
       "    .dataframe thead th {\n",
       "        text-align: right;\n",
       "    }\n",
       "</style>\n",
       "<table border=\"1\" class=\"dataframe\">\n",
       "  <thead>\n",
       "    <tr style=\"text-align: right;\">\n",
       "      <th></th>\n",
       "      <th>Unnamed: 0</th>\n",
       "      <th>meeting_id</th>\n",
       "      <th>event_number</th>\n",
       "      <th>distance</th>\n",
       "      <th>distance_raw_furlongs</th>\n",
       "      <th>total_prize_money</th>\n",
       "      <th>track_type</th>\n",
       "      <th>barrier</th>\n",
       "      <th>number</th>\n",
       "      <th>finish_position</th>\n",
       "      <th>...</th>\n",
       "      <th>race_class_normalised_Group 3</th>\n",
       "      <th>race_class_normalised_Handicap</th>\n",
       "      <th>race_class_normalised_Listed</th>\n",
       "      <th>race_class_normalised_Maiden</th>\n",
       "      <th>race_class_normalised_NHF</th>\n",
       "      <th>race_class_normalised_Novice</th>\n",
       "      <th>race_class_normalised_Selling</th>\n",
       "      <th>race_class_normalised_nan</th>\n",
       "      <th>life_days</th>\n",
       "      <th>current_age</th>\n",
       "    </tr>\n",
       "  </thead>\n",
       "  <tbody>\n",
       "    <tr>\n",
       "      <th>0</th>\n",
       "      <td>0</td>\n",
       "      <td>3668</td>\n",
       "      <td>1</td>\n",
       "      <td>1100</td>\n",
       "      <td>5.0</td>\n",
       "      <td>4231</td>\n",
       "      <td>1</td>\n",
       "      <td>8</td>\n",
       "      <td>1</td>\n",
       "      <td>2.0</td>\n",
       "      <td>...</td>\n",
       "      <td>0.0</td>\n",
       "      <td>1.0</td>\n",
       "      <td>0.0</td>\n",
       "      <td>0.0</td>\n",
       "      <td>0.0</td>\n",
       "      <td>0.0</td>\n",
       "      <td>0.0</td>\n",
       "      <td>0.0</td>\n",
       "      <td>1269</td>\n",
       "      <td>5</td>\n",
       "    </tr>\n",
       "    <tr>\n",
       "      <th>1</th>\n",
       "      <td>1</td>\n",
       "      <td>3668</td>\n",
       "      <td>7</td>\n",
       "      <td>1760</td>\n",
       "      <td>8.0</td>\n",
       "      <td>4231</td>\n",
       "      <td>1</td>\n",
       "      <td>6</td>\n",
       "      <td>4</td>\n",
       "      <td>2.0</td>\n",
       "      <td>...</td>\n",
       "      <td>0.0</td>\n",
       "      <td>1.0</td>\n",
       "      <td>0.0</td>\n",
       "      <td>0.0</td>\n",
       "      <td>0.0</td>\n",
       "      <td>0.0</td>\n",
       "      <td>0.0</td>\n",
       "      <td>0.0</td>\n",
       "      <td>1600</td>\n",
       "      <td>4</td>\n",
       "    </tr>\n",
       "    <tr>\n",
       "      <th>2</th>\n",
       "      <td>2</td>\n",
       "      <td>3668</td>\n",
       "      <td>7</td>\n",
       "      <td>1760</td>\n",
       "      <td>8.0</td>\n",
       "      <td>4231</td>\n",
       "      <td>1</td>\n",
       "      <td>4</td>\n",
       "      <td>3</td>\n",
       "      <td>7.0</td>\n",
       "      <td>...</td>\n",
       "      <td>0.0</td>\n",
       "      <td>1.0</td>\n",
       "      <td>0.0</td>\n",
       "      <td>0.0</td>\n",
       "      <td>0.0</td>\n",
       "      <td>0.0</td>\n",
       "      <td>0.0</td>\n",
       "      <td>0.0</td>\n",
       "      <td>3433</td>\n",
       "      <td>4</td>\n",
       "    </tr>\n",
       "    <tr>\n",
       "      <th>3</th>\n",
       "      <td>3</td>\n",
       "      <td>3668</td>\n",
       "      <td>7</td>\n",
       "      <td>1760</td>\n",
       "      <td>8.0</td>\n",
       "      <td>4231</td>\n",
       "      <td>1</td>\n",
       "      <td>7</td>\n",
       "      <td>2</td>\n",
       "      <td>1.0</td>\n",
       "      <td>...</td>\n",
       "      <td>0.0</td>\n",
       "      <td>1.0</td>\n",
       "      <td>0.0</td>\n",
       "      <td>0.0</td>\n",
       "      <td>0.0</td>\n",
       "      <td>0.0</td>\n",
       "      <td>0.0</td>\n",
       "      <td>0.0</td>\n",
       "      <td>1576</td>\n",
       "      <td>3</td>\n",
       "    </tr>\n",
       "    <tr>\n",
       "      <th>4</th>\n",
       "      <td>4</td>\n",
       "      <td>3668</td>\n",
       "      <td>7</td>\n",
       "      <td>1760</td>\n",
       "      <td>8.0</td>\n",
       "      <td>4231</td>\n",
       "      <td>1</td>\n",
       "      <td>2</td>\n",
       "      <td>1</td>\n",
       "      <td>8.0</td>\n",
       "      <td>...</td>\n",
       "      <td>0.0</td>\n",
       "      <td>1.0</td>\n",
       "      <td>0.0</td>\n",
       "      <td>0.0</td>\n",
       "      <td>0.0</td>\n",
       "      <td>0.0</td>\n",
       "      <td>0.0</td>\n",
       "      <td>0.0</td>\n",
       "      <td>1617</td>\n",
       "      <td>5</td>\n",
       "    </tr>\n",
       "    <tr>\n",
       "      <th>...</th>\n",
       "      <td>...</td>\n",
       "      <td>...</td>\n",
       "      <td>...</td>\n",
       "      <td>...</td>\n",
       "      <td>...</td>\n",
       "      <td>...</td>\n",
       "      <td>...</td>\n",
       "      <td>...</td>\n",
       "      <td>...</td>\n",
       "      <td>...</td>\n",
       "      <td>...</td>\n",
       "      <td>...</td>\n",
       "      <td>...</td>\n",
       "      <td>...</td>\n",
       "      <td>...</td>\n",
       "      <td>...</td>\n",
       "      <td>...</td>\n",
       "      <td>...</td>\n",
       "      <td>...</td>\n",
       "      <td>...</td>\n",
       "      <td>...</td>\n",
       "    </tr>\n",
       "    <tr>\n",
       "      <th>207209</th>\n",
       "      <td>282000</td>\n",
       "      <td>37996</td>\n",
       "      <td>3</td>\n",
       "      <td>1320</td>\n",
       "      <td>6.0</td>\n",
       "      <td>46920</td>\n",
       "      <td>1</td>\n",
       "      <td>2</td>\n",
       "      <td>2</td>\n",
       "      <td>1.0</td>\n",
       "      <td>...</td>\n",
       "      <td>0.0</td>\n",
       "      <td>1.0</td>\n",
       "      <td>0.0</td>\n",
       "      <td>0.0</td>\n",
       "      <td>0.0</td>\n",
       "      <td>0.0</td>\n",
       "      <td>0.0</td>\n",
       "      <td>0.0</td>\n",
       "      <td>1331</td>\n",
       "      <td>7</td>\n",
       "    </tr>\n",
       "    <tr>\n",
       "      <th>207210</th>\n",
       "      <td>282001</td>\n",
       "      <td>37996</td>\n",
       "      <td>3</td>\n",
       "      <td>1320</td>\n",
       "      <td>6.0</td>\n",
       "      <td>46920</td>\n",
       "      <td>1</td>\n",
       "      <td>6</td>\n",
       "      <td>1</td>\n",
       "      <td>9.0</td>\n",
       "      <td>...</td>\n",
       "      <td>0.0</td>\n",
       "      <td>1.0</td>\n",
       "      <td>0.0</td>\n",
       "      <td>0.0</td>\n",
       "      <td>0.0</td>\n",
       "      <td>0.0</td>\n",
       "      <td>0.0</td>\n",
       "      <td>0.0</td>\n",
       "      <td>2761</td>\n",
       "      <td>6</td>\n",
       "    </tr>\n",
       "    <tr>\n",
       "      <th>207211</th>\n",
       "      <td>282002</td>\n",
       "      <td>37996</td>\n",
       "      <td>2</td>\n",
       "      <td>1760</td>\n",
       "      <td>8.0</td>\n",
       "      <td>14296</td>\n",
       "      <td>1</td>\n",
       "      <td>9</td>\n",
       "      <td>9</td>\n",
       "      <td>4.0</td>\n",
       "      <td>...</td>\n",
       "      <td>0.0</td>\n",
       "      <td>1.0</td>\n",
       "      <td>0.0</td>\n",
       "      <td>0.0</td>\n",
       "      <td>0.0</td>\n",
       "      <td>0.0</td>\n",
       "      <td>0.0</td>\n",
       "      <td>0.0</td>\n",
       "      <td>924</td>\n",
       "      <td>6</td>\n",
       "    </tr>\n",
       "    <tr>\n",
       "      <th>207212</th>\n",
       "      <td>282003</td>\n",
       "      <td>37996</td>\n",
       "      <td>2</td>\n",
       "      <td>1760</td>\n",
       "      <td>8.0</td>\n",
       "      <td>14296</td>\n",
       "      <td>1</td>\n",
       "      <td>4</td>\n",
       "      <td>8</td>\n",
       "      <td>5.0</td>\n",
       "      <td>...</td>\n",
       "      <td>0.0</td>\n",
       "      <td>1.0</td>\n",
       "      <td>0.0</td>\n",
       "      <td>0.0</td>\n",
       "      <td>0.0</td>\n",
       "      <td>0.0</td>\n",
       "      <td>0.0</td>\n",
       "      <td>0.0</td>\n",
       "      <td>969</td>\n",
       "      <td>7</td>\n",
       "    </tr>\n",
       "    <tr>\n",
       "      <th>207213</th>\n",
       "      <td>282004</td>\n",
       "      <td>37996</td>\n",
       "      <td>3</td>\n",
       "      <td>1320</td>\n",
       "      <td>6.0</td>\n",
       "      <td>46920</td>\n",
       "      <td>1</td>\n",
       "      <td>8</td>\n",
       "      <td>9</td>\n",
       "      <td>5.0</td>\n",
       "      <td>...</td>\n",
       "      <td>0.0</td>\n",
       "      <td>1.0</td>\n",
       "      <td>0.0</td>\n",
       "      <td>0.0</td>\n",
       "      <td>0.0</td>\n",
       "      <td>0.0</td>\n",
       "      <td>0.0</td>\n",
       "      <td>0.0</td>\n",
       "      <td>1313</td>\n",
       "      <td>7</td>\n",
       "    </tr>\n",
       "  </tbody>\n",
       "</table>\n",
       "<p>207214 rows × 64 columns</p>\n",
       "</div>"
      ],
      "text/plain": [
       "        Unnamed: 0  meeting_id  event_number  distance  distance_raw_furlongs  \\\n",
       "0                0        3668             1      1100                    5.0   \n",
       "1                1        3668             7      1760                    8.0   \n",
       "2                2        3668             7      1760                    8.0   \n",
       "3                3        3668             7      1760                    8.0   \n",
       "4                4        3668             7      1760                    8.0   \n",
       "...            ...         ...           ...       ...                    ...   \n",
       "207209      282000       37996             3      1320                    6.0   \n",
       "207210      282001       37996             3      1320                    6.0   \n",
       "207211      282002       37996             2      1760                    8.0   \n",
       "207212      282003       37996             2      1760                    8.0   \n",
       "207213      282004       37996             3      1320                    6.0   \n",
       "\n",
       "        total_prize_money  track_type  barrier  number  finish_position  ...  \\\n",
       "0                    4231           1        8       1              2.0  ...   \n",
       "1                    4231           1        6       4              2.0  ...   \n",
       "2                    4231           1        4       3              7.0  ...   \n",
       "3                    4231           1        7       2              1.0  ...   \n",
       "4                    4231           1        2       1              8.0  ...   \n",
       "...                   ...         ...      ...     ...              ...  ...   \n",
       "207209              46920           1        2       2              1.0  ...   \n",
       "207210              46920           1        6       1              9.0  ...   \n",
       "207211              14296           1        9       9              4.0  ...   \n",
       "207212              14296           1        4       8              5.0  ...   \n",
       "207213              46920           1        8       9              5.0  ...   \n",
       "\n",
       "        race_class_normalised_Group 3  race_class_normalised_Handicap  \\\n",
       "0                                 0.0                             1.0   \n",
       "1                                 0.0                             1.0   \n",
       "2                                 0.0                             1.0   \n",
       "3                                 0.0                             1.0   \n",
       "4                                 0.0                             1.0   \n",
       "...                               ...                             ...   \n",
       "207209                            0.0                             1.0   \n",
       "207210                            0.0                             1.0   \n",
       "207211                            0.0                             1.0   \n",
       "207212                            0.0                             1.0   \n",
       "207213                            0.0                             1.0   \n",
       "\n",
       "        race_class_normalised_Listed  race_class_normalised_Maiden  \\\n",
       "0                                0.0                           0.0   \n",
       "1                                0.0                           0.0   \n",
       "2                                0.0                           0.0   \n",
       "3                                0.0                           0.0   \n",
       "4                                0.0                           0.0   \n",
       "...                              ...                           ...   \n",
       "207209                           0.0                           0.0   \n",
       "207210                           0.0                           0.0   \n",
       "207211                           0.0                           0.0   \n",
       "207212                           0.0                           0.0   \n",
       "207213                           0.0                           0.0   \n",
       "\n",
       "        race_class_normalised_NHF  race_class_normalised_Novice  \\\n",
       "0                             0.0                           0.0   \n",
       "1                             0.0                           0.0   \n",
       "2                             0.0                           0.0   \n",
       "3                             0.0                           0.0   \n",
       "4                             0.0                           0.0   \n",
       "...                           ...                           ...   \n",
       "207209                        0.0                           0.0   \n",
       "207210                        0.0                           0.0   \n",
       "207211                        0.0                           0.0   \n",
       "207212                        0.0                           0.0   \n",
       "207213                        0.0                           0.0   \n",
       "\n",
       "        race_class_normalised_Selling  race_class_normalised_nan  life_days  \\\n",
       "0                                 0.0                        0.0       1269   \n",
       "1                                 0.0                        0.0       1600   \n",
       "2                                 0.0                        0.0       3433   \n",
       "3                                 0.0                        0.0       1576   \n",
       "4                                 0.0                        0.0       1617   \n",
       "...                               ...                        ...        ...   \n",
       "207209                            0.0                        0.0       1331   \n",
       "207210                            0.0                        0.0       2761   \n",
       "207211                            0.0                        0.0        924   \n",
       "207212                            0.0                        0.0        969   \n",
       "207213                            0.0                        0.0       1313   \n",
       "\n",
       "        current_age  \n",
       "0                 5  \n",
       "1                 4  \n",
       "2                 4  \n",
       "3                 3  \n",
       "4                 5  \n",
       "...             ...  \n",
       "207209            7  \n",
       "207210            6  \n",
       "207211            6  \n",
       "207212            7  \n",
       "207213            7  \n",
       "\n",
       "[207214 rows x 64 columns]"
      ]
     },
     "execution_count": 33,
     "metadata": {},
     "output_type": "execute_result"
    }
   ],
   "source": [
    "df.select_dtypes(exclude = 'O')"
   ]
  },
  {
   "cell_type": "code",
   "execution_count": 34,
   "id": "8c5fa92e",
   "metadata": {},
   "outputs": [],
   "source": [
    "df = df.select_dtypes(exclude = ['object'])"
   ]
  },
  {
   "cell_type": "code",
   "execution_count": 35,
   "id": "c6833405",
   "metadata": {},
   "outputs": [
    {
     "data": {
      "text/plain": [
       "array([dtype('int64'), dtype('float64')], dtype=object)"
      ]
     },
     "execution_count": 35,
     "metadata": {},
     "output_type": "execute_result"
    }
   ],
   "source": [
    "df.dtypes.unique()"
   ]
  },
  {
   "cell_type": "code",
   "execution_count": 36,
   "id": "fb180d63",
   "metadata": {},
   "outputs": [
    {
     "data": {
      "text/plain": [
       "dtype('int64')"
      ]
     },
     "execution_count": 36,
     "metadata": {},
     "output_type": "execute_result"
    }
   ],
   "source": [
    "df.failed_to_finish_reason.dtype"
   ]
  },
  {
   "cell_type": "code",
   "execution_count": 37,
   "id": "18962bf8",
   "metadata": {},
   "outputs": [
    {
     "data": {
      "text/plain": [
       "Index(['Unnamed: 0', 'meeting_id', 'event_number', 'distance',\n",
       "       'distance_raw_furlongs', 'total_prize_money', 'track_type', 'barrier',\n",
       "       'number', 'finish_position', 'win_or_lose', 'failed_to_finish_reason',\n",
       "       'margin', 'gear', 'jockey_allowance', 'handicap_weight', 'jockey_id',\n",
       "       'tainer_id', 'dslr', 'horse_id', 'age', 'official rating', 'wfa',\n",
       "       'weight_adjustment', 'betfair_starting_price',\n",
       "       'pre_race_master_rating_int', 'starting_price', 'track_condition_FAST',\n",
       "       'track_condition_FIRM', 'track_condition_GOOD',\n",
       "       'track_condition_GOOD TO FIRM', 'track_condition_GOOD TO SOFT',\n",
       "       'track_condition_GOOD TO YIELDING', 'track_condition_HEAVY',\n",
       "       'track_condition_SLOW', 'track_condition_SOFT',\n",
       "       'track_condition_STANDARD', 'track_condition_STANDARD TO FAST',\n",
       "       'track_condition_STANDARD TO SLOW', 'race_type_FLAT',\n",
       "       'race_type_NATIONAL_HUNT_FLAT', 'race_class_1', 'race_class_2',\n",
       "       'race_class_3', 'race_class_4', 'race_class_5', 'race_class_6',\n",
       "       'race_class_7', 'race_class_normalised_Claiming',\n",
       "       'race_class_normalised_Conditions', 'race_class_normalised_Grade 1',\n",
       "       'race_class_normalised_Grade 2', 'race_class_normalised_Group 1',\n",
       "       'race_class_normalised_Group 2', 'race_class_normalised_Group 3',\n",
       "       'race_class_normalised_Handicap', 'race_class_normalised_Listed',\n",
       "       'race_class_normalised_Maiden', 'race_class_normalised_NHF',\n",
       "       'race_class_normalised_Novice', 'race_class_normalised_Selling',\n",
       "       'race_class_normalised_nan', 'life_days', 'current_age'],\n",
       "      dtype='object')"
      ]
     },
     "execution_count": 37,
     "metadata": {},
     "output_type": "execute_result"
    }
   ],
   "source": [
    "df.columns"
   ]
  },
  {
   "cell_type": "code",
   "execution_count": 38,
   "id": "ca701fd1",
   "metadata": {},
   "outputs": [],
   "source": [
    "df = df.drop(['finish_position', 'Unnamed: 0', 'failed_to_finish_reason'], axis =1)"
   ]
  },
  {
   "cell_type": "code",
   "execution_count": 39,
   "id": "0fba2673",
   "metadata": {},
   "outputs": [
    {
     "data": {
      "text/plain": [
       "Index(['meeting_id', 'event_number', 'distance', 'distance_raw_furlongs',\n",
       "       'total_prize_money', 'track_type', 'barrier', 'number', 'win_or_lose',\n",
       "       'margin', 'gear', 'jockey_allowance', 'handicap_weight', 'jockey_id',\n",
       "       'tainer_id', 'dslr', 'horse_id', 'age', 'official rating', 'wfa',\n",
       "       'weight_adjustment', 'betfair_starting_price',\n",
       "       'pre_race_master_rating_int', 'starting_price', 'track_condition_FAST',\n",
       "       'track_condition_FIRM', 'track_condition_GOOD',\n",
       "       'track_condition_GOOD TO FIRM', 'track_condition_GOOD TO SOFT',\n",
       "       'track_condition_GOOD TO YIELDING', 'track_condition_HEAVY',\n",
       "       'track_condition_SLOW', 'track_condition_SOFT',\n",
       "       'track_condition_STANDARD', 'track_condition_STANDARD TO FAST',\n",
       "       'track_condition_STANDARD TO SLOW', 'race_type_FLAT',\n",
       "       'race_type_NATIONAL_HUNT_FLAT', 'race_class_1', 'race_class_2',\n",
       "       'race_class_3', 'race_class_4', 'race_class_5', 'race_class_6',\n",
       "       'race_class_7', 'race_class_normalised_Claiming',\n",
       "       'race_class_normalised_Conditions', 'race_class_normalised_Grade 1',\n",
       "       'race_class_normalised_Grade 2', 'race_class_normalised_Group 1',\n",
       "       'race_class_normalised_Group 2', 'race_class_normalised_Group 3',\n",
       "       'race_class_normalised_Handicap', 'race_class_normalised_Listed',\n",
       "       'race_class_normalised_Maiden', 'race_class_normalised_NHF',\n",
       "       'race_class_normalised_Novice', 'race_class_normalised_Selling',\n",
       "       'race_class_normalised_nan', 'life_days', 'current_age'],\n",
       "      dtype='object')"
      ]
     },
     "execution_count": 39,
     "metadata": {},
     "output_type": "execute_result"
    }
   ],
   "source": [
    "df.columns"
   ]
  },
  {
   "cell_type": "code",
   "execution_count": 40,
   "id": "8156753a",
   "metadata": {},
   "outputs": [],
   "source": [
    "y = df.copy()[['win_or_lose']]"
   ]
  },
  {
   "cell_type": "code",
   "execution_count": 41,
   "id": "efe8a9be",
   "metadata": {},
   "outputs": [],
   "source": [
    "X = df.copy().drop(columns='win_or_lose')"
   ]
  },
  {
   "cell_type": "code",
   "execution_count": 42,
   "id": "d9fcc5cf",
   "metadata": {},
   "outputs": [],
   "source": [
    "# X = X.drop(['date', 'birth_date','sire','dam'], axis = 1)"
   ]
  },
  {
   "cell_type": "code",
   "execution_count": 43,
   "id": "ea728a5c",
   "metadata": {},
   "outputs": [
    {
     "data": {
      "text/plain": [
       "Index(['meeting_id', 'event_number', 'distance', 'distance_raw_furlongs',\n",
       "       'total_prize_money', 'track_type', 'barrier', 'number', 'margin',\n",
       "       'gear', 'jockey_allowance', 'handicap_weight', 'jockey_id', 'tainer_id',\n",
       "       'dslr', 'horse_id', 'age', 'official rating', 'wfa',\n",
       "       'weight_adjustment', 'betfair_starting_price',\n",
       "       'pre_race_master_rating_int', 'starting_price', 'track_condition_FAST',\n",
       "       'track_condition_FIRM', 'track_condition_GOOD',\n",
       "       'track_condition_GOOD TO FIRM', 'track_condition_GOOD TO SOFT',\n",
       "       'track_condition_GOOD TO YIELDING', 'track_condition_HEAVY',\n",
       "       'track_condition_SLOW', 'track_condition_SOFT',\n",
       "       'track_condition_STANDARD', 'track_condition_STANDARD TO FAST',\n",
       "       'track_condition_STANDARD TO SLOW', 'race_type_FLAT',\n",
       "       'race_type_NATIONAL_HUNT_FLAT', 'race_class_1', 'race_class_2',\n",
       "       'race_class_3', 'race_class_4', 'race_class_5', 'race_class_6',\n",
       "       'race_class_7', 'race_class_normalised_Claiming',\n",
       "       'race_class_normalised_Conditions', 'race_class_normalised_Grade 1',\n",
       "       'race_class_normalised_Grade 2', 'race_class_normalised_Group 1',\n",
       "       'race_class_normalised_Group 2', 'race_class_normalised_Group 3',\n",
       "       'race_class_normalised_Handicap', 'race_class_normalised_Listed',\n",
       "       'race_class_normalised_Maiden', 'race_class_normalised_NHF',\n",
       "       'race_class_normalised_Novice', 'race_class_normalised_Selling',\n",
       "       'race_class_normalised_nan', 'life_days', 'current_age'],\n",
       "      dtype='object')"
      ]
     },
     "execution_count": 43,
     "metadata": {},
     "output_type": "execute_result"
    }
   ],
   "source": [
    "X.columns"
   ]
  },
  {
   "cell_type": "code",
   "execution_count": 44,
   "id": "7e0c7a0b",
   "metadata": {},
   "outputs": [],
   "source": [
    "# X = X.drop(['Unnamed: 0'], axis = 1, inplace= True)"
   ]
  },
  {
   "cell_type": "code",
   "execution_count": 45,
   "id": "87620f2f",
   "metadata": {},
   "outputs": [],
   "source": [
    "# X"
   ]
  },
  {
   "cell_type": "code",
   "execution_count": 46,
   "id": "eadcc7a5",
   "metadata": {},
   "outputs": [],
   "source": [
    "# X.dtypes.unique()"
   ]
  },
  {
   "cell_type": "code",
   "execution_count": 47,
   "id": "d8bf9e9a",
   "metadata": {},
   "outputs": [],
   "source": [
    "# X_test = X.loc[(df['date'] > '2023-01-01')]"
   ]
  },
  {
   "cell_type": "code",
   "execution_count": 48,
   "id": "1abee036",
   "metadata": {},
   "outputs": [],
   "source": [
    "# X_train = X.loc[(df['date'] < '2023-01-01')]"
   ]
  },
  {
   "cell_type": "code",
   "execution_count": 49,
   "id": "13be21b0",
   "metadata": {},
   "outputs": [],
   "source": [
    "# y_test = y.loc[(df['date'] > '2023-01-01')]"
   ]
  },
  {
   "cell_type": "code",
   "execution_count": 50,
   "id": "c610853f",
   "metadata": {},
   "outputs": [],
   "source": [
    "# y_train = y.loc[(df['date'] > '2023-01-01')]"
   ]
  },
  {
   "cell_type": "code",
   "execution_count": 51,
   "id": "0840be31",
   "metadata": {},
   "outputs": [],
   "source": [
    "# y_train.shape"
   ]
  },
  {
   "cell_type": "code",
   "execution_count": 52,
   "id": "821ca4ac",
   "metadata": {},
   "outputs": [],
   "source": [
    "# X.columns"
   ]
  },
  {
   "cell_type": "code",
   "execution_count": 53,
   "id": "eda797f3",
   "metadata": {
    "collapsed": true
   },
   "outputs": [],
   "source": [
    "# pd.DataFrame(X).describe()"
   ]
  },
  {
   "cell_type": "code",
   "execution_count": 54,
   "id": "355bc61b",
   "metadata": {},
   "outputs": [],
   "source": [
    "# #remove novice races - remove horse races look at where race class normalized is handicapped\n",
    "# X = X.drop(['date', 'birth_date', 'Unnamed: 0'], axis = 1)"
   ]
  },
  {
   "cell_type": "code",
   "execution_count": 55,
   "id": "6b0cd1b0",
   "metadata": {},
   "outputs": [],
   "source": [
    "# X.drop(['dam', 'sire'], axis = 1)"
   ]
  },
  {
   "cell_type": "code",
   "execution_count": 56,
   "id": "d2cfb2b3",
   "metadata": {},
   "outputs": [],
   "source": [
    "# X_train.select_dtypes(include='object')"
   ]
  },
  {
   "cell_type": "code",
   "execution_count": 57,
   "id": "84a8d494",
   "metadata": {},
   "outputs": [
    {
     "data": {
      "text/plain": [
       "((145049, 60), (62165, 60), (145049, 1), (62165, 1))"
      ]
     },
     "execution_count": 57,
     "metadata": {},
     "output_type": "execute_result"
    }
   ],
   "source": [
    "X_train, X_val, y_train, y_val = train_test_split(X, y, test_size = 0.3)\n",
    "X_train.shape, X_val.shape, y_train.shape, y_val.shape"
   ]
  },
  {
   "cell_type": "code",
   "execution_count": 59,
   "id": "2b06f526",
   "metadata": {},
   "outputs": [
    {
     "name": "stdout",
     "output_type": "stream",
     "text": [
      "X_train.shape = (145049, 60)\n",
      "y_train.shape = (145049, 1)\n",
      "X_val.shape = (62165, 60)\n",
      "y_val.shape = (62165, 1)\n"
     ]
    }
   ],
   "source": [
    "print(f\"X_train.shape = {X_train.shape}\")\n",
    "print(f\"y_train.shape = {y_train.shape}\")\n",
    "print(f\"X_val.shape = {X_val.shape}\")\n",
    "print(f\"y_val.shape = {y_val.shape}\")\n",
    "# print(f\"X_test.shape = {X_test.shape}\")\n",
    "# print(f\"y_test.shape = {y_test.shape}\")"
   ]
  },
  {
   "cell_type": "code",
   "execution_count": null,
   "id": "a8985984",
   "metadata": {
    "scrolled": true
   },
   "outputs": [],
   "source": [
    "metrics = [\n",
    "    keras.metrics.Recall(name='recall'),\n",
    "    keras.metrics.Precision(name='precision'),\n",
    "    keras.metrics.AUC(name='prc', curve='PR')\n",
    "    # keras.metrics.\n",
    "    # keras.metrics.F1 ,  # precision-recall curve add precsion, F1, accuracy\n",
    "]"
   ]
  },
  {
   "cell_type": "code",
   "execution_count": null,
   "id": "780b9745",
   "metadata": {},
   "outputs": [],
   "source": [
    "es = EarlyStopping(patience=4),"
   ]
  },
  {
   "cell_type": "code",
   "execution_count": null,
   "id": "e42c837e",
   "metadata": {},
   "outputs": [],
   "source": [
    "#build model\n",
    "def inititialize_model(X):\n",
    "   \n",
    "    #architecture\n",
    "#     normaliser = Normalization() commented as already have normalizing method applied as part of pipeline\n",
    "    model = models.Sequential()\n",
    "    model.add(layers.Dense(1000, activation = 'relu', input_dim=X_train.shape[-1]))\n",
    "    # model.add(layers.Dropout(rate=0.2))\n",
    "    # model.add(layers.Dense(500, activation = 'relu'))\n",
    "    # model.add(layers.Dropout(rate=0.2))\n",
    "    # model.add(layers.Dense(100, activation = 'relu'))\n",
    "    model.add(layers.Dropout(rate=0.2))\n",
    "    model.add(layers.Dense(1, activation = 'softmax'))\n",
    "    \n",
    "    # classification comilation\n",
    "    optimizer = Adam(learning_rate=0.0001)\n",
    "    model.compile(loss='categorical_crossentropy',\n",
    "              optimizer=optimizer, \n",
    "              metrics=metrics)\n",
    "    return model"
   ]
  },
  {
   "cell_type": "code",
   "execution_count": null,
   "id": "acf166a1",
   "metadata": {},
   "outputs": [
    {
     "ename": "NameError",
     "evalue": "name 'X_train' is not defined",
     "output_type": "error",
     "traceback": [
      "\u001b[0;31m---------------------------------------------------------------------------\u001b[0m",
      "\u001b[0;31mNameError\u001b[0m                                 Traceback (most recent call last)",
      "Cell \u001b[0;32mIn[3], line 2\u001b[0m\n\u001b[1;32m      1\u001b[0m \u001b[38;5;66;03m#initialize model\u001b[39;00m\n\u001b[0;32m----> 2\u001b[0m model \u001b[38;5;241m=\u001b[39m inititialize_model(\u001b[43mX_train\u001b[49m)\n\u001b[1;32m      3\u001b[0m model\u001b[38;5;241m.\u001b[39msummary()\n",
      "\u001b[0;31mNameError\u001b[0m: name 'X_train' is not defined"
     ]
    }
   ],
   "source": [
    "#initialize model\n",
    "model = inititialize_model(X_train)\n",
    "model.summary()"
   ]
  },
  {
   "cell_type": "code",
   "execution_count": null,
   "id": "9e7cda91",
   "metadata": {},
   "outputs": [
    {
     "name": "stdout",
     "output_type": "stream",
     "text": [
      "Epoch 1/10\n",
      "4533/4533 [==============================] - 35s 8ms/step - loss: 0.0000e+00 - recall: 6.1778e-05 - precision: 0.0833 - prc: 0.1115 - val_loss: 0.0000e+00 - val_recall: 0.0000e+00 - val_precision: 0.0000e+00 - val_prc: 0.1128\n",
      "Epoch 2/10\n",
      "4533/4533 [==============================] - 31s 7ms/step - loss: 0.0000e+00 - recall: 0.0000e+00 - precision: 0.0000e+00 - prc: 0.1116 - val_loss: 0.0000e+00 - val_recall: 0.0000e+00 - val_precision: 0.0000e+00 - val_prc: 0.1128\n",
      "Epoch 3/10\n",
      "4533/4533 [==============================] - 30s 7ms/step - loss: 0.0000e+00 - recall: 0.0000e+00 - precision: 0.0000e+00 - prc: 0.1116 - val_loss: 0.0000e+00 - val_recall: 0.0000e+00 - val_precision: 0.0000e+00 - val_prc: 0.1128\n",
      "Epoch 4/10\n",
      "4533/4533 [==============================] - 30s 7ms/step - loss: 0.0000e+00 - recall: 0.0000e+00 - precision: 0.0000e+00 - prc: 0.1116 - val_loss: 0.0000e+00 - val_recall: 0.0000e+00 - val_precision: 0.0000e+00 - val_prc: 0.1128\n",
      "Epoch 5/10\n",
      "4533/4533 [==============================] - 30s 7ms/step - loss: 0.0000e+00 - recall: 0.0000e+00 - precision: 0.0000e+00 - prc: 0.1116 - val_loss: 0.0000e+00 - val_recall: 0.0000e+00 - val_precision: 0.0000e+00 - val_prc: 0.1128\n"
     ]
    }
   ],
   "source": [
    "# Train the model\n",
    "history = model.fit(X_train, y_train,\n",
    "                    validation_data = (X_val, y_val),\n",
    "                    epochs=10,\n",
    "                    batch_size=32, # Large enough?/\n",
    "                    callbacks=[es])"
   ]
  },
  {
   "cell_type": "code",
   "execution_count": null,
   "id": "09c2d776",
   "metadata": {},
   "outputs": [],
   "source": []
  },
  {
   "cell_type": "code",
   "execution_count": null,
   "id": "961b984e",
   "metadata": {},
   "outputs": [],
   "source": [
    "# history = model.fit(X_train, y_train,\n",
    "#                     validation_data = (X_val, y_val),\n",
    "#                     epochs=100,\n",
    "#                     batch_size=64, # Large enough to get a decent chance of containing fraudulent transactions \n",
    "#                     callbacks=[es], shuffle=True)"
   ]
  },
  {
   "cell_type": "code",
   "execution_count": null,
   "id": "428d1755",
   "metadata": {},
   "outputs": [],
   "source": []
  },
  {
   "cell_type": "code",
   "execution_count": null,
   "id": "c31bb1c0",
   "metadata": {},
   "outputs": [],
   "source": [
    "    \n",
    "    # #fit model\n",
    "    # model.fit(X_train, y_train, batch_size=32, epochs=100)"
   ]
  }
 ],
 "metadata": {
  "kernelspec": {
   "display_name": "Python 3 (ipykernel)",
   "language": "python",
   "name": "python3"
  },
  "language_info": {
   "codemirror_mode": {
    "name": "ipython",
    "version": 3
   },
   "file_extension": ".py",
   "mimetype": "text/x-python",
   "name": "python",
   "nbconvert_exporter": "python",
   "pygments_lexer": "ipython3",
   "version": "3.10.6"
  },
  "toc": {
   "base_numbering": 1,
   "nav_menu": {},
   "number_sections": true,
   "sideBar": true,
   "skip_h1_title": false,
   "title_cell": "Table of Contents",
   "title_sidebar": "Contents",
   "toc_cell": false,
   "toc_position": {},
   "toc_section_display": true,
   "toc_window_display": false
  }
 },
 "nbformat": 4,
 "nbformat_minor": 5
}
